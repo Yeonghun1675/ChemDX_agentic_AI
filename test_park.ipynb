{
 "cells": [
  {
   "cell_type": "code",
   "execution_count": 16,
   "id": "45fbf17a",
   "metadata": {},
   "outputs": [
    {
     "name": "stdout",
     "output_type": "stream",
     "text": [
      "The autoreload extension is already loaded. To reload it, use:\n",
      "  %reload_ext autoreload\n"
     ]
    }
   ],
   "source": [
    "%load_ext autoreload\n",
    "%autoreload 2"
   ]
  },
  {
   "cell_type": "code",
   "execution_count": 17,
   "id": "28758f21",
   "metadata": {},
   "outputs": [],
   "source": [
    "from chemdx_agent.main_agent import run_main_agent\n",
    "from chemdx_agent.schema import AgentState"
   ]
  },
  {
   "cell_type": "code",
   "execution_count": 18,
   "id": "686912a3",
   "metadata": {},
   "outputs": [],
   "source": [
    "state = AgentState()"
   ]
  },
  {
   "cell_type": "code",
   "execution_count": 19,
   "id": "8a374328",
   "metadata": {},
   "outputs": [
    {
     "name": "stderr",
     "output_type": "stream",
     "text": [
      "[Question] I want to blue color so can you recommnd phosphor?\n",
      "[RecommendAgent] Message2Agent: I want to blue color so can you recommend phosphor?\n",
      "[RecommendAgent] Action: Used the recommend_by_color function with desired_color set to 'blue'.\n",
      "[RecommendAgent] Result: Recommended phosphor: Sr4Al14O25Ce0.16 with a decay time of 13.4ms, CIE coordinates (x=0.168, y=0.129, Y=3.000), color score of 0.760, and total score of 0.894.\n",
      "[Final Answer] The recommended phosphor for blue color is Sr4Al14O25Ce0.16. It has a decay time of 13.4ms, CIE coordinates (x=0.168, y=0.129, Y=3.000), a color score of 0.760, and a total score of 0.894.\n",
      "[Evaluation] The task was executed successfully, providing a suitable phosphor recommendation for blue color with detailed specifications.\n"
     ]
    }
   ],
   "source": [
    "result = await run_main_agent(\"I want to blue color so can you recommnd phosphor?\")"
   ]
  },
  {
   "cell_type": "code",
   "execution_count": 20,
   "id": "cb6c191e",
   "metadata": {},
   "outputs": [
    {
     "data": {
      "text/plain": [
       "FinalAnswer(task='Recommend phosphor materials with long decay times for blue color', final_answer='The recommended phosphor for blue color is Sr4Al14O25Ce0.16. It has a decay time of 13.4ms, CIE coordinates (x=0.168, y=0.129, Y=3.000), a color score of 0.760, and a total score of 0.894.', evaluation='The task was executed successfully, providing a suitable phosphor recommendation for blue color with detailed specifications.')"
      ]
     },
     "execution_count": 20,
     "metadata": {},
     "output_type": "execute_result"
    }
   ],
   "source": [
    "result"
   ]
  },
  {
   "cell_type": "code",
   "execution_count": 21,
   "id": "0e76c4ef",
   "metadata": {},
   "outputs": [
    {
     "name": "stdout",
     "output_type": "stream",
     "text": [
      "main_task='' working_memory=[] current_step=0 lock=<unlocked _thread.lock object at 0x121478ed0>\n"
     ]
    }
   ],
   "source": [
    "print (state)"
   ]
  },
  {
   "cell_type": "code",
   "execution_count": null,
   "id": "9d74d973",
   "metadata": {},
   "outputs": [],
   "source": []
  }
 ],
 "metadata": {
  "kernelspec": {
   "display_name": "base",
   "language": "python",
   "name": "python3"
  },
  "language_info": {
   "codemirror_mode": {
    "name": "ipython",
    "version": 3
   },
   "file_extension": ".py",
   "mimetype": "text/x-python",
   "name": "python",
   "nbconvert_exporter": "python",
   "pygments_lexer": "ipython3",
   "version": "3.13.2"
  }
 },
 "nbformat": 4,
 "nbformat_minor": 5
}
