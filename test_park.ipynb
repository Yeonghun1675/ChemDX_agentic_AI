{
 "cells": [
  {
   "cell_type": "code",
   "execution_count": 37,
   "id": "45fbf17a",
   "metadata": {},
   "outputs": [
    {
     "name": "stdout",
     "output_type": "stream",
     "text": [
      "The autoreload extension is already loaded. To reload it, use:\n",
      "  %reload_ext autoreload\n"
     ]
    }
   ],
   "source": [
    "%load_ext autoreload\n",
    "%autoreload 2"
   ]
  },
  {
   "cell_type": "code",
   "execution_count": 38,
   "id": "28758f21",
   "metadata": {},
   "outputs": [],
   "source": [
    "from chemdx_agent.main_agent import run_main_agent\n",
    "from chemdx_agent.schema import AgentState"
   ]
  },
  {
   "cell_type": "code",
   "execution_count": 39,
   "id": "686912a3",
   "metadata": {},
   "outputs": [],
   "source": [
    "state = AgentState()"
   ]
  },
  {
   "cell_type": "code",
   "execution_count": 40,
   "id": "8a374328",
   "metadata": {},
   "outputs": [
    {
     "name": "stderr",
     "output_type": "stream",
     "text": [
      "[Question] Please recommend blue phosphor candidates that meet the conditions Decay time ≤ 100, and QE ≥ 80. Please tell me the host, 1st dopant, 1st doping concentration, Emission max. (nm), Decay time (ns), and quantum efficiency (%) of the recommended materials. Next, please summarize the Eu co-doping concentration change in the Ba2Bi0.95V3O11 family of emission max and color change. Finally, please summarize the correlation/trend of Emission vs color.\n"
     ]
    },
    {
     "name": "stderr",
     "output_type": "stream",
     "text": [
      "[PhosphorDataResearchAgent] Message2Agent: Recommend blue phosphor candidates with Decay time ≤ 100 ns and QE ≥ 80%. Provide details on host, 1st dopant, 1st doping concentration, Emission max. (nm), Decay time (ns), and quantum efficiency (%).\n",
      "[RecommendAgent] Message2Agent: Recommend blue phosphor candidates with Decay time ≤ 100 ns and QE ≥ 80%. Provide details on host, 1st dopant, 1st doping concentration, Emission max. (nm), Decay time (ns), and quantum efficiency (%).\n",
      "[RecommendAgent] Action: Searched the database for blue phosphors with decay time ≤ 100 ns and quantum efficiency ≥ 80%.\n",
      "[RecommendAgent] Result: No phosphor candidates were found that meet the criteria of having a decay time ≤ 100 ns and a quantum efficiency ≥ 80%.\n",
      "[PhosphorDataResearchAgent] Action: Searched the database for blue phosphors with decay time ≤ 100 ns and quantum efficiency ≥ 80%.\n",
      "[PhosphorDataResearchAgent] Result: No phosphor candidates were found that meet the criteria of having a decay time ≤ 100 ns and a quantum efficiency ≥ 80%.\n",
      "[PhosphorDataResearchAgent] Message2Agent: Summarize the Eu co-doping concentration change in the Ba2Bi0.95V3O11 family regarding emission max and color change.\n",
      "[ColorTrendAgent] Message2Agent: Analyze the emission max and color change trend with varying Eu co-doping concentration in the Ba2Bi0.95V3O11 family.\n",
      "[ColorTrendAgent] Action: Examined the phosphor database for entries with host 'Ba2Bi0.95V3O11' and dopant 'Eu'. Analyzed the emission and color data across different Eu doping concentrations.\n",
      "[ColorTrendAgent] Result: The emission peak remains stable at 619 nm across varying Eu co-doping concentrations, consistently resulting in a red emission. There is no significant red or blue shift observed, and the chromaticity remains unchanged.\n",
      "[PhosphorDataResearchAgent] Action: Examined the phosphor database for entries with host 'Ba2Bi0.95V3O11' and dopant 'Eu'. Analyzed the emission and color data across different Eu doping concentrations.\n",
      "[PhosphorDataResearchAgent] Result: The emission peak remains stable at 619 nm across varying Eu co-doping concentrations, consistently resulting in a red emission. There is no significant red or blue shift observed, and the chromaticity remains unchanged.\n",
      "[TrendAgent] Message2Agent: Summarize the correlation/trend of Emission vs color in phosphors.\n",
      "[PhosphorTrendAgent] Message2Agent: Summarize the correlation/trend of Emission vs color in phosphors.\n",
      "[PhosphorTrendAgent] Action: Analyzed the correlation between emission wavelength and CIE color coordinates (x and y) in the phosphor database.\n",
      "[PhosphorTrendAgent] Result: There is a strong positive correlation between the emission wavelength (nm) and the CIE x coordinate, indicating that as the emission wavelength increases, the CIE x value also tends to increase. This suggests a shift towards the red end of the spectrum with longer wavelengths. The correlation is supported by a Spearman coefficient of 0.79 and a Pearson coefficient of 0.74. However, there is a weak or no significant correlation between the emission wavelength and the CIE y coordinate, with Spearman and Pearson coefficients of 0.15 and 0.35, respectively.\n",
      "[TrendAgent] Action: Analyzed the correlation between emission wavelength and CIE color coordinates (x and y) in the phosphor database.\n",
      "[TrendAgent] Result: There is a strong positive correlation between the emission wavelength (nm) and the CIE x coordinate, indicating that as the emission wavelength increases, the CIE x value also tends to increase. This suggests a shift towards the red end of the spectrum with longer wavelengths. The correlation is supported by a Spearman coefficient of 0.79 and a Pearson coefficient of 0.74. However, there is a weak or no significant correlation between the emission wavelength and the CIE y coordinate, with Spearman and Pearson coefficients of 0.15 and 0.35, respectively.\n",
      "[Final Answer] 1. No blue phosphor candidates were found that meet the criteria of having a decay time ≤ 100 ns and a quantum efficiency ≥ 80%.\n",
      "\n",
      "2. In the Ba2Bi0.95V3O11 family, varying the Eu co-doping concentration does not significantly affect the emission maximum or color, which remains stable at 619 nm with a consistent red emission.\n",
      "\n",
      "3. There is a strong positive correlation between emission wavelength and the CIE x coordinate, indicating a shift towards the red end of the spectrum with longer wavelengths. The correlation is supported by Spearman and Pearson coefficients of 0.79 and 0.74, respectively. There is a weak correlation between emission wavelength and the CIE y coordinate, with coefficients of 0.15 and 0.35.\n",
      "[Evaluation] The tasks were executed well, providing clear and concise summaries for each request. The lack of suitable blue phosphor candidates was noted, and the trends in Eu co-doping and emission vs color were effectively summarized.\n"
     ]
    }
   ],
   "source": [
    "result = await run_main_agent(\"Please recommend blue phosphor candidates that meet the conditions Decay time ≤ 100, and QE ≥ 80. Please tell me the host, 1st dopant, 1st doping concentration, Emission max. (nm), Decay time (ns), and quantum efficiency (%) of the recommended materials. Next, please summarize the Eu co-doping concentration change in the Ba2Bi0.95V3O11 family of emission max and color change. Finally, please summarize the correlation/trend of Emission vs color.\")"
   ]
  },
  {
   "cell_type": "code",
   "execution_count": null,
   "id": "cb6c191e",
   "metadata": {},
   "outputs": [],
   "source": [
    "result"
   ]
  },
  {
   "cell_type": "code",
   "execution_count": null,
   "id": "0e76c4ef",
   "metadata": {},
   "outputs": [],
   "source": [
    "print (state)"
   ]
  },
  {
   "cell_type": "code",
   "execution_count": null,
   "id": "9d74d973",
   "metadata": {},
   "outputs": [],
   "source": []
  }
 ],
 "metadata": {
  "kernelspec": {
   "display_name": "base",
   "language": "python",
   "name": "python3"
  },
  "language_info": {
   "codemirror_mode": {
    "name": "ipython",
    "version": 3
   },
   "file_extension": ".py",
   "mimetype": "text/x-python",
   "name": "python",
   "nbconvert_exporter": "python",
   "pygments_lexer": "ipython3",
   "version": "3.13.2"
  }
 },
 "nbformat": 4,
 "nbformat_minor": 5
}
