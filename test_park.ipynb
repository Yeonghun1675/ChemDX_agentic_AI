{
 "cells": [
  {
   "cell_type": "code",
   "execution_count": 16,
   "id": "45fbf17a",
   "metadata": {},
   "outputs": [
    {
     "name": "stdout",
     "output_type": "stream",
     "text": [
      "The autoreload extension is already loaded. To reload it, use:\n",
      "  %reload_ext autoreload\n"
     ]
    }
   ],
   "source": [
    "%load_ext autoreload\n",
    "%autoreload 2"
   ]
  },
  {
   "cell_type": "code",
   "execution_count": 17,
   "id": "28758f21",
   "metadata": {},
   "outputs": [],
   "source": [
    "from chemdx_agent.main_agent import run_main_agent\n",
    "from chemdx_agent.schema import AgentState\n",
    "from chemdx_agent.utils import split_line_to_agent_and_message"
   ]
  },
  {
   "cell_type": "code",
   "execution_count": 18,
   "id": "8a374328",
   "metadata": {},
   "outputs": [
    {
     "name": "stderr",
     "output_type": "stream",
     "text": [
      "[Question] Please recommend blue phosphor candidates that meet the conditions of Emission max >= 360, <=420, Decay time ≤ 100, and QE ≥ 80. Please tell me the host, 1st dopant, 1st doping concentration, Emission max. (nm), Decay time (ns), and quantum efficiency (%) of the recommended materials. Next, please summarize the Eu co-doping concentration change in the Ba2Bi0.95V3O11 family of emission max and color change. Finally, please summarize the correlation/trend of Emission vs color.\n",
      "[PhosphorDataResearchAgent] Message2Agent: Find blue phosphor candidates with Emission max between 360 and 420 nm, Decay time ≤ 100 ns, and Quantum Efficiency (QE) ≥ 80%. Provide details on host, 1st dopant, 1st doping concentration, Emission max (nm), Decay time (ns), and quantum efficiency (%).\n",
      "[PhosphorLookupAgent] Message2Agent: Find blue phosphor candidates with Emission max between 360 and 420 nm, Decay time ≤ 100 ns, and Quantum Efficiency (QE) ≥ 80%. Provide details on host, 1st dopant, 1st doping concentration, Emission max (nm), Decay time (ns), and quantum efficiency (%).\n",
      "[PhosphorLookupAgent] Action: Searched for phosphor candidates with Emission max between 360 and 420 nm, Decay time ≤ 100 ns, and QE ≥ 80%.\n",
      "[Tool-search_candidates] Tool input: {\"min_emission_nm\":360,\"max_emission_nm\":420,\"max_decay_ns\":100,\"min_iqe_percent\":80}\n",
      "[Tool-search_candidates] Tool result: Candidates for 360.0-420.0 nm, decay <= 100.0 ns, IQE >= 80.0%:\n",
      "1. RbCaGdP2O8:Ce, conc=0.1 | emission=408 nm | decay=45 ns | IQE=83%, hex=#FF00FF\n",
      "2. Ba2Y1.8P2O12Si:Ce, conc=0.14 | emission=409 nm | decay=42 ns | IQE=84%, hex=#00FFFF\n",
      "3. KSrGdP2O8:Ce, conc=0.04 | emission=370 nm | decay=63 ns | IQE=96%\n",
      "4. KSrGdP2O8:Ce, conc=0.04 | emission=370 nm | decay=47 ns | IQE=90%\n",
      "5. KNaCa2P2O8Na0.04:Ce, conc=0.04 | emission=367 nm | decay=47 ns | IQE=89%, hex=#FF00FF\n",
      "[PhosphorLookupAgent] Result: 1. Host: RbCaGdP2O8, 1st Dopant: Ce, 1st Doping Concentration: 0.1, Emission max: 408 nm, Decay time: 45 ns, Quantum Efficiency: 83%\n",
      "2. Host: Ba2Y1.8P2O12Si, 1st Dopant: Ce, 1st Doping Concentration: 0.14, Emission max: 409 nm, Decay time: 42 ns, Quantum Efficiency: 84%\n",
      "3. Host: KSrGdP2O8, 1st Dopant: Ce, 1st Doping Concentration: 0.04, Emission max: 370 nm, Decay time: 63 ns, Quantum Efficiency: 96%\n",
      "4. Host: KSrGdP2O8, 1st Dopant: Ce, 1st Doping Concentration: 0.04, Emission max: 370 nm, Decay time: 47 ns, Quantum Efficiency: 90%\n",
      "5. Host: KNaCa2P2O8Na0.04, 1st Dopant: Ce, 1st Doping Concentration: 0.04, Emission max: 367 nm, Decay time: 47 ns, Quantum Efficiency: 89%\n",
      "[PhosphorDataResearchAgent] Action: Searched for phosphor candidates with Emission max between 360 and 420 nm, Decay time ≤ 100 ns, and QE ≥ 80%.\n",
      "[PhosphorDataResearchAgent] Result: 1. Host: RbCaGdP2O8, 1st Dopant: Ce, 1st Doping Concentration: 0.1, Emission max: 408 nm, Decay time: 45 ns, Quantum Efficiency: 83%\n",
      "2. Host: Ba2Y1.8P2O12Si, 1st Dopant: Ce, 1st Doping Concentration: 0.14, Emission max: 409 nm, Decay time: 42 ns, Quantum Efficiency: 84%\n",
      "3. Host: KSrGdP2O8, 1st Dopant: Ce, 1st Doping Concentration: 0.04, Emission max: 370 nm, Decay time: 63 ns, Quantum Efficiency: 96%\n",
      "4. Host: KSrGdP2O8, 1st Dopant: Ce, 1st Doping Concentration: 0.04, Emission max: 370 nm, Decay time: 47 ns, Quantum Efficiency: 90%\n",
      "5. Host: KNaCa2P2O8Na0.04, 1st Dopant: Ce, 1st Doping Concentration: 0.04, Emission max: 367 nm, Decay time: 47 ns, Quantum Efficiency: 89%\n",
      "[TrendAgent] Message2Agent: Summarize the Eu co-doping concentration change in the Ba2Bi0.95V3O11 family and its effect on emission max and color change.\n",
      "[PhosphorTrendAgent] Message2Agent: Summarize the Eu co-doping concentration change in the Ba2Bi0.95V3O11 family and its effect on emission max and color change.\n",
      "[PhosphorTrendAgent] Action: Attempted to analyze the trend of Eu co-doping concentration on emission max and color change in the Ba2Bi0.95V3O11 family using the Inorganic_Phosphor_Optical_Properties_DB.csv file.\n",
      "[Tool-analyze_trend] Tool input: {\"x_feature\":\"1st doping concentration\",\"y_feature\":\"Emission max. (nm)\",\"filters\":\"Host = 'Ba2Bi0.95V3O11' AND 1st dopant = 'Eu'\"}\n",
      "[Tool-analyze_trend] Tool result: Error: Not found: 'databases/Inorganic_Phosphor_Optical_Properties_DB.csv'\n",
      "[Tool-load_phosphor_db] Tool input: {\"file_path\":\"Inorganic_Phosphor_Optical_Properties_DB.csv\"}\n",
      "[Tool-load_phosphor_db] Tool result: Error: Not found: 'Inorganic_Phosphor_Optical_Properties_DB.csv'\n",
      "[PhosphorTrendAgent] Result: The database file 'Inorganic_Phosphor_Optical_Properties_DB.csv' could not be found, preventing the analysis of the Eu co-doping concentration effect on emission max and color change in the Ba2Bi0.95V3O11 family.\n",
      "[TrendAgent] Action: Attempted to analyze the trend of Eu co-doping concentration on emission max and color change in the Ba2Bi0.95V3O11 family using the Inorganic_Phosphor_Optical_Properties_DB.csv file.\n",
      "[TrendAgent] Result: The database file 'Inorganic_Phosphor_Optical_Properties_DB.csv' could not be found, preventing the analysis of the Eu co-doping concentration effect on emission max and color change in the Ba2Bi0.95V3O11 family.\n",
      "[TrendAgent] Message2Agent: Summarize the correlation/trend of Emission vs color in phosphors.\n",
      "[PhosphorTrendAgent] Message2Agent: Summarize the correlation/trend of Emission vs color in phosphors.\n",
      "[PhosphorTrendAgent] Action: Attempted to load and analyze the phosphor database to identify trends between emission maxima and color coordinates (CIE x/y).\n",
      "[Tool-analyze_trend] Tool input: {\"x_feature\":\"Emission max. (nm)\",\"y_feature\":\"CIE x/y\",\"file_path\":\"Inorganic_Phosphor_Optical_Properties_DB.csv\"}\n",
      "[Tool-analyze_trend] Tool result: Error: Not found: 'Inorganic_Phosphor_Optical_Properties_DB.csv'\n",
      "[Tool-load_phosphor_db] Tool input: {\"file_path\":\"Inorganic_Phosphor_Optical_Properties_DB.csv\"}\n",
      "[Tool-load_phosphor_db] Tool result: Error: Not found: 'Inorganic_Phosphor_Optical_Properties_DB.csv'\n",
      "[PhosphorTrendAgent] Result: The database 'Inorganic_Phosphor_Optical_Properties_DB.csv' could not be found, preventing analysis of the correlation between emission maxima and color coordinates.\n",
      "[TrendAgent] Action: Attempted to load and analyze the phosphor database to identify trends between emission maxima and color coordinates (CIE x/y).\n",
      "[TrendAgent] Result: The database 'Inorganic_Phosphor_Optical_Properties_DB.csv' could not be found, preventing analysis of the correlation between emission maxima and color coordinates.\n",
      "[Final Answer] 1. Recommended Blue Phosphor Candidates:\n",
      "   - Host: RbCaGdP2O8, 1st Dopant: Ce, 1st Doping Concentration: 0.1, Emission max: 408 nm, Decay time: 45 ns, Quantum Efficiency: 83%\n",
      "   - Host: Ba2Y1.8P2O12Si, 1st Dopant: Ce, 1st Doping Concentration: 0.14, Emission max: 409 nm, Decay time: 42 ns, Quantum Efficiency: 84%\n",
      "   - Host: KSrGdP2O8, 1st Dopant: Ce, 1st Doping Concentration: 0.04, Emission max: 370 nm, Decay time: 63 ns, Quantum Efficiency: 96%\n",
      "   - Host: KSrGdP2O8, 1st Dopant: Ce, 1st Doping Concentration: 0.04, Emission max: 370 nm, Decay time: 47 ns, Quantum Efficiency: 90%\n",
      "   - Host: KNaCa2P2O8Na0.04, 1st Dopant: Ce, 1st Doping Concentration: 0.04, Emission max: 367 nm, Decay time: 47 ns, Quantum Efficiency: 89%\n",
      "\n",
      "2. Eu Co-doping in Ba2Bi0.95V3O11 Family:\n",
      "   - Analysis could not be performed due to missing database file.\n",
      "\n",
      "3. Emission vs Color Correlation:\n",
      "   - Analysis could not be performed due to missing database file.\n",
      "[Evaluation] The task was partially completed. Blue phosphor candidates were successfully identified, but the analysis of Eu co-doping effects and emission vs color correlation could not be performed due to missing data files.\n"
     ]
    }
   ],
   "source": [
    "state = AgentState()\n",
    "\n",
    "result = await run_main_agent(\"Please recommend blue phosphor candidates that meet the conditions of Emission max >= 360, <=420, Decay time ≤ 100, and QE ≥ 80. Please tell me the host, 1st dopant, 1st doping concentration, Emission max. (nm), Decay time (ns), and quantum efficiency (%) of the recommended materials. Next, please summarize the Eu co-doping concentration change in the Ba2Bi0.95V3O11 family of emission max and color change. Finally, please summarize the correlation/trend of Emission vs color.\", deps=state)"
   ]
  },
  {
   "cell_type": "code",
   "execution_count": 19,
   "id": "163b40e2",
   "metadata": {},
   "outputs": [
    {
     "data": {
      "text/plain": [
       "['[PhosphorLookupAgent] Find blue phosphor candidates with Emission max between 360 and 420 nm, Decay time ≤ 100 ns, and Quantum Efficiency (QE) ≥ 80%. Provide details on host, 1st dopant, 1st doping concentration, Emission max (nm), Decay time (ns), and quantum efficiency (%).',\n",
       " '[PhosphorDataResearchAgent] Find blue phosphor candidates with Emission max between 360 and 420 nm, Decay time ≤ 100 ns, and Quantum Efficiency (QE) ≥ 80%. Provide details on host, 1st dopant, 1st doping concentration, Emission max (nm), Decay time (ns), and quantum efficiency (%).',\n",
       " '[PhosphorTrendAgent] Summarize the Eu co-doping concentration change in the Ba2Bi0.95V3O11 family and its effect on emission max and color change.',\n",
       " '[PhosphorTrendAgent] Summarize the Eu co-doping concentration change in the Ba2Bi0.95V3O11 family and its effect on emission max and color change.',\n",
       " '[TrendAgent] Summarize the Eu co-doping concentration change in the Ba2Bi0.95V3O11 family and its effect on emission max and color change.',\n",
       " '[PhosphorTrendAgent] Summarize the correlation/trend of Emission vs color in phosphors.',\n",
       " '[PhosphorTrendAgent] Summarize the correlation/trend of Emission vs color in phosphors.',\n",
       " '[TrendAgent] Summarize the correlation/trend of Emission vs color in phosphors.']"
      ]
     },
     "execution_count": 19,
     "metadata": {},
     "output_type": "execute_result"
    }
   ],
   "source": [
    "state.working_memory"
   ]
  },
  {
   "cell_type": "code",
   "execution_count": null,
   "id": "64557d55",
   "metadata": {},
   "outputs": [],
   "source": [
    "with open(\"log.txt\", \"r\") as f:\n",
    "    lines = [line.strip() for line in f]"
   ]
  },
  {
   "cell_type": "code",
   "execution_count": null,
   "id": "c1d57865",
   "metadata": {},
   "outputs": [],
   "source": [
    "a = [split_line_to_agent_and_message(line) for line in lines]"
   ]
  },
  {
   "cell_type": "code",
   "execution_count": null,
   "id": "075a8c68",
   "metadata": {},
   "outputs": [],
   "source": [
    "agent, message_type, message = zip(*a)"
   ]
  },
  {
   "cell_type": "code",
   "execution_count": null,
   "id": "7a27b71f",
   "metadata": {},
   "outputs": [],
   "source": [
    "agent"
   ]
  },
  {
   "cell_type": "code",
   "execution_count": null,
   "id": "03d582ea",
   "metadata": {},
   "outputs": [],
   "source": []
  }
 ],
 "metadata": {
  "kernelspec": {
   "display_name": "base",
   "language": "python",
   "name": "python3"
  },
  "language_info": {
   "codemirror_mode": {
    "name": "ipython",
    "version": 3
   },
   "file_extension": ".py",
   "mimetype": "text/x-python",
   "name": "python",
   "nbconvert_exporter": "python",
   "pygments_lexer": "ipython3",
   "version": "3.13.2"
  }
 },
 "nbformat": 4,
 "nbformat_minor": 5
}
