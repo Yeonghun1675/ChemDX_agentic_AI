{
 "cells": [
  {
   "cell_type": "code",
   "execution_count": 17,
   "id": "45fbf17a",
   "metadata": {},
   "outputs": [
    {
     "name": "stdout",
     "output_type": "stream",
     "text": [
      "The autoreload extension is already loaded. To reload it, use:\n",
      "  %reload_ext autoreload\n"
     ]
    }
   ],
   "source": [
    "%load_ext autoreload\n",
    "%autoreload 2"
   ]
  },
  {
   "cell_type": "code",
   "execution_count": 18,
   "id": "28758f21",
   "metadata": {},
   "outputs": [],
   "source": [
    "from chemdx_agent.main_agent import run_main_agent"
   ]
  },
  {
   "cell_type": "code",
   "execution_count": 19,
   "id": "8a374328",
   "metadata": {},
   "outputs": [
    {
     "name": "stderr",
     "output_type": "stream",
     "text": [
      "[Question] I want to blue color so can you recommnd phosphor?\n",
      "[PhosphorLookupAgent] Message2Agent: I need a phosphor that emits blue color. Can you recommend one?\n",
      "[PhosphorLookupAgent] Action: Searched the database for phosphors with blue emission characteristics.\n",
      "[PhosphorLookupAgent] Result: Unable to find a specific blue-emitting phosphor due to database limitations. The database lacks a direct formula column and color information is not directly searchable. Consider using known blue-emitting phosphors like BaMgAl10O17:Eu2+ as a reference for further research.\n",
      "[Final Answer] The database search for a specific blue-emitting phosphor was inconclusive due to limitations in the database structure. However, a commonly known blue-emitting phosphor is BaMgAl10O17:Eu2+. This can be used as a reference for further research.\n",
      "[Evaluation] The task was partially completed. While a specific phosphor from the database could not be identified, a known blue-emitting phosphor was suggested for further exploration.\n"
     ]
    }
   ],
   "source": [
    "result = await run_main_agent(\"I want to blue color so can you recommnd phosphor?\")"
   ]
  },
  {
   "cell_type": "code",
   "execution_count": 20,
   "id": "cb6c191e",
   "metadata": {},
   "outputs": [
    {
     "data": {
      "text/plain": [
       "FinalAnswer(task='Recommend a blue-emitting phosphor.', final_answer='The database search for a specific blue-emitting phosphor was inconclusive due to limitations in the database structure. However, a commonly known blue-emitting phosphor is BaMgAl10O17:Eu2+. This can be used as a reference for further research.', evaluation='The task was partially completed. While a specific phosphor from the database could not be identified, a known blue-emitting phosphor was suggested for further exploration.')"
      ]
     },
     "execution_count": 20,
     "metadata": {},
     "output_type": "execute_result"
    }
   ],
   "source": [
    "result"
   ]
  },
  {
   "cell_type": "code",
   "execution_count": null,
   "id": "0e76c4ef",
   "metadata": {},
   "outputs": [],
   "source": []
  }
 ],
 "metadata": {
  "kernelspec": {
   "display_name": "base",
   "language": "python",
   "name": "python3"
  },
  "language_info": {
   "codemirror_mode": {
    "name": "ipython",
    "version": 3
   },
   "file_extension": ".py",
   "mimetype": "text/x-python",
   "name": "python",
   "nbconvert_exporter": "python",
   "pygments_lexer": "ipython3",
   "version": "3.13.2"
  }
 },
 "nbformat": 4,
 "nbformat_minor": 5
}
