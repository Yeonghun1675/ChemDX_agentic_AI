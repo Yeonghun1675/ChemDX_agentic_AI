{
 "cells": [
  {
   "cell_type": "code",
   "execution_count": 40,
   "id": "45fbf17a",
   "metadata": {},
   "outputs": [
    {
     "name": "stdout",
     "output_type": "stream",
     "text": [
      "The autoreload extension is already loaded. To reload it, use:\n",
      "  %reload_ext autoreload\n"
     ]
    }
   ],
   "source": [
    "%load_ext autoreload\n",
    "%autoreload 2"
   ]
  },
  {
   "cell_type": "code",
   "execution_count": 41,
   "id": "28758f21",
   "metadata": {},
   "outputs": [],
   "source": [
    "from chemdx_agent.main_agent import run_main_agent\n",
    "from chemdx_agent.schema import AgentState"
   ]
  },
  {
   "cell_type": "code",
   "execution_count": 42,
   "id": "686912a3",
   "metadata": {},
   "outputs": [],
   "source": [
    "state = AgentState()"
   ]
  },
  {
   "cell_type": "code",
   "execution_count": 43,
   "id": "8a374328",
   "metadata": {},
   "outputs": [
    {
     "name": "stderr",
     "output_type": "stream",
     "text": [
      "[Question] Na2.86Sc2P3O12 여기 host에 나는 Eu를 doping 할껀데 비율에 따른 색 변화가 어떻게 될까?\n",
      "[ColorTrendAgent] Message2Agent: Na2.86Sc2P3O12 host에 Eu를 doping할 때 비율에 따른 색 변화를 알고 싶습니다.\n",
      "[ColorTrendAgent] Action: Examined the phosphor database for Na2.86Sc2P3O12 host doped with Eu, focusing on how emission color changes with varying dopant ratios.\n",
      "[ColorTrendAgent] Result: For the Na2.86Sc2P3O12 host doped with Eu, the emission remains stable at 453 nm across the examined dopant ratios, consistently resulting in a blue color. There is no observed red or blue shift, and the chromaticity does not change with the dopant ratio.\n",
      "[Final Answer] For the Na2.86Sc2P3O12 host doped with Eu, the emission remains stable at 453 nm across the examined dopant ratios, consistently resulting in a blue color. There is no observed red or blue shift, and the chromaticity does not change with the dopant ratio.\n",
      "[Evaluation] The task was successfully completed, providing a clear and concise answer regarding the color stability of the phosphor with Eu doping.\n"
     ]
    }
   ],
   "source": [
    "result = await run_main_agent(\"Na2.86Sc2P3O12 여기 host에 나는 Eu를 doping 할껀데 비율에 따른 색 변화가 어떻게 될까?\")"
   ]
  },
  {
   "cell_type": "code",
   "execution_count": 44,
   "id": "cb6c191e",
   "metadata": {},
   "outputs": [
    {
     "data": {
      "text/plain": [
       "FinalAnswer(task='Determine the color change with varying Eu doping in Na2.86Sc2P3O12 host.', final_answer='For the Na2.86Sc2P3O12 host doped with Eu, the emission remains stable at 453 nm across the examined dopant ratios, consistently resulting in a blue color. There is no observed red or blue shift, and the chromaticity does not change with the dopant ratio.', evaluation='The task was successfully completed, providing a clear and concise answer regarding the color stability of the phosphor with Eu doping.')"
      ]
     },
     "execution_count": 44,
     "metadata": {},
     "output_type": "execute_result"
    }
   ],
   "source": [
    "result"
   ]
  },
  {
   "cell_type": "code",
   "execution_count": null,
   "id": "0e76c4ef",
   "metadata": {},
   "outputs": [],
   "source": [
    "print (state)"
   ]
  },
  {
   "cell_type": "code",
   "execution_count": null,
   "id": "9d74d973",
   "metadata": {},
   "outputs": [],
   "source": []
  }
 ],
 "metadata": {
  "kernelspec": {
   "display_name": "base",
   "language": "python",
   "name": "python3"
  },
  "language_info": {
   "codemirror_mode": {
    "name": "ipython",
    "version": 3
   },
   "file_extension": ".py",
   "mimetype": "text/x-python",
   "name": "python",
   "nbconvert_exporter": "python",
   "pygments_lexer": "ipython3",
   "version": "3.13.2"
  }
 },
 "nbformat": 4,
 "nbformat_minor": 5
}
