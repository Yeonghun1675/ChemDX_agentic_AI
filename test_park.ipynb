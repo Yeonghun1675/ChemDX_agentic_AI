{
 "cells": [
  {
   "cell_type": "code",
   "execution_count": 63,
   "id": "45fbf17a",
   "metadata": {},
   "outputs": [
    {
     "name": "stdout",
     "output_type": "stream",
     "text": [
      "The autoreload extension is already loaded. To reload it, use:\n",
      "  %reload_ext autoreload\n"
     ]
    }
   ],
   "source": [
    "%load_ext autoreload\n",
    "%autoreload 2"
   ]
  },
  {
   "cell_type": "code",
   "execution_count": 64,
   "id": "28758f21",
   "metadata": {},
   "outputs": [],
   "source": [
    "from chemdx_agent.main_agent import run_main_agent\n",
    "from chemdx_agent.schema import AgentState"
   ]
  },
  {
   "cell_type": "code",
   "execution_count": 65,
   "id": "686912a3",
   "metadata": {},
   "outputs": [],
   "source": [
    "state = AgentState()"
   ]
  },
  {
   "cell_type": "code",
   "execution_count": 66,
   "id": "8a374328",
   "metadata": {},
   "outputs": [
    {
     "name": "stderr",
     "output_type": "stream",
     "text": [
      "[Question] emission max와 decay time 사이의 trend를 분석해줘\n",
      "[TrendAgent] Message2Agent: Analyze the trend between emission max and decay time.\n",
      "/Users/bgpark/Library/CloudStorage/GoogleDrive-qhrms7905@hanyang.ac.kr/내 드라이브/03_학회/2025/07_해커톤/hackathon/chemdx_agent/agents/trend_agent/subagent.py:298: FutureWarning: The default of observed=False is deprecated and will be changed to True in a future version of pandas. Pass observed=False to retain current behavior or observed=True to adopt the future default and silence this warning.\n",
      "  work[\"X_bin\"] = pd.qcut(work[\"X\"], q=min(5, max(2, min(10, n))), duplicates=\"drop\")\n",
      "[TrendAgent] Action: Computed the correlation and summarized the trend between emission max and decay time using the phosphor database.\n",
      "[TrendAgent] Result: There is a positive monotonic trend between emission max and decay time, with a Spearman correlation of 0.48. As decay time increases, the emission max tends to shift towards longer wavelengths, moving from blue to green and further towards red. This trend can be explained by the fact that longer decay times often correspond to lower energy transitions, which emit light at longer wavelengths. This is due to the influence of factors like crystal field effects and non-radiative transition rates.\n",
      "[Final Answer] There is a positive monotonic trend between emission max and decay time, with a Spearman correlation of 0.48. As decay time increases, the emission max tends to shift towards longer wavelengths, moving from blue to green and further towards red. This trend can be explained by the fact that longer decay times often correspond to lower energy transitions, which emit light at longer wavelengths. This is due to the influence of factors like crystal field effects and non-radiative transition rates.\n",
      "[Evaluation] The task was executed successfully, providing a clear analysis of the trend between emission max and decay time, supported by statistical correlation and physical explanation.\n"
     ]
    }
   ],
   "source": [
    "result = await run_main_agent(\"emission max와 decay time 사이의 trend를 분석해줘\")"
   ]
  },
  {
   "cell_type": "code",
   "execution_count": 67,
   "id": "cb6c191e",
   "metadata": {},
   "outputs": [
    {
     "data": {
      "text/plain": [
       "FinalAnswer(task='Analyze the trend between emission max and decay time.', final_answer='There is a positive monotonic trend between emission max and decay time, with a Spearman correlation of 0.48. As decay time increases, the emission max tends to shift towards longer wavelengths, moving from blue to green and further towards red. This trend can be explained by the fact that longer decay times often correspond to lower energy transitions, which emit light at longer wavelengths. This is due to the influence of factors like crystal field effects and non-radiative transition rates.', evaluation='The task was executed successfully, providing a clear analysis of the trend between emission max and decay time, supported by statistical correlation and physical explanation.')"
      ]
     },
     "execution_count": 67,
     "metadata": {},
     "output_type": "execute_result"
    }
   ],
   "source": [
    "result"
   ]
  },
  {
   "cell_type": "code",
   "execution_count": 68,
   "id": "0e76c4ef",
   "metadata": {},
   "outputs": [
    {
     "name": "stdout",
     "output_type": "stream",
     "text": [
      "main_task='' working_memory=[] current_step=0 lock=<unlocked _thread.lock object at 0x172d21f50>\n"
     ]
    }
   ],
   "source": [
    "print (state)"
   ]
  },
  {
   "cell_type": "code",
   "execution_count": null,
   "id": "9d74d973",
   "metadata": {},
   "outputs": [],
   "source": []
  }
 ],
 "metadata": {
  "kernelspec": {
   "display_name": "base",
   "language": "python",
   "name": "python3"
  },
  "language_info": {
   "codemirror_mode": {
    "name": "ipython",
    "version": 3
   },
   "file_extension": ".py",
   "mimetype": "text/x-python",
   "name": "python",
   "nbconvert_exporter": "python",
   "pygments_lexer": "ipython3",
   "version": "3.13.2"
  }
 },
 "nbformat": 4,
 "nbformat_minor": 5
}
