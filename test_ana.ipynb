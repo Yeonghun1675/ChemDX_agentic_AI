{
 "cells": [
  {
   "cell_type": "code",
   "execution_count": 1,
   "id": "45fbf17a",
   "metadata": {},
   "outputs": [],
   "source": [
    "%load_ext autoreload\n",
    "%autoreload 2"
   ]
  },
  {
   "cell_type": "code",
   "execution_count": 2,
   "id": "28758f21",
   "metadata": {},
   "outputs": [
    {
     "name": "stderr",
     "output_type": "stream",
     "text": [
      "[DatabaseAgent] Successfully loaded database from: /Users/eleutheria/Documents/GitHub/ChemDX_agentic_AI/chemdx_agent/databases/thermoelectrics.csv\n",
      "[DatabaseAgent] Database shape: (5205, 8), Columns: ['Formula', 'temperature(K)', 'seebeck_coefficient(μV/K)', 'electrical_conductivity(S/m)', 'thermal_conductivity(W/mK)', 'power_factor(W/mK2)', 'ZT', 'reference']\n"
     ]
    }
   ],
   "source": [
    "from chemdx_agent.main_agent import run_main_agent\n",
    "from chemdx_agent.schema import AgentState"
   ]
  },
  {
   "cell_type": "code",
   "execution_count": 4,
   "id": "8a374328",
   "metadata": {},
   "outputs": [
    {
     "name": "stderr",
     "output_type": "stream",
     "text": [
      "[Question] find the optimal temperature for ZT of Cu2SnS3 from the thermoelectric materials database, visualise the data using matplotlib and generate and show me the POSCAR file for Cu2SnS3 based on the materials project dataㅤ\n",
      "[DatabaseAgent] Message2Agent: Retrieve the thermoelectric properties of Cu2SnS3 from the thermoelectric materials database, focusing on the ZT values across different temperatures. Identify the temperature at which the ZT value is optimal (highest).ㅤ\n",
      "[DatabaseAgent] Action: Queried the thermoelectric materials database for ZT values of Cu2SnS3 across different temperatures.ㅤ\n",
      "[DatabaseAgent] Result: The optimal temperature for ZT of Cu2SnS3 is 723K with a ZT value of 0.04. The data points include temperatures 323K, 423K, 523K, 623K, and 723K with corresponding ZT values of 0.0, 0.01, 0.01, 0.02, and 0.04 respectively.ㅤ\n",
      "[VisualisationAgent] Message2Agent: Visualize the ZT values of Cu2SnS3 across different temperatures using matplotlib. The data points are: (323K, 0.0), (423K, 0.01), (523K, 0.01), (623K, 0.02), and (723K, 0.04). Create a line plot with temperature on the x-axis and ZT value on the y-axis, highlighting the optimal temperature of 723K.ㅤ\n",
      "[VisualisationAgent] Action: Created a line plot with temperature on the x-axis and ZT value on the y-axis, highlighting the optimal temperature of 723K.ㅤ\n",
      "[VisualisationAgent] Result: The plot has been successfully created and saved as 'plots/Cu2SnS3_ZT_62586454.png'. The data used for the plot is saved in 'plots/Cu2SnS3_ZT_62586454_data.csv'.ㅤ\n",
      "[MaterialsProjectAgent] Message2Agent: Generate the POSCAR file for Cu2SnS3 using the materials project data. Ensure the file is formatted correctly for use in computational simulations.ㅤ\n",
      "[MaterialsProjectAgent] Using fallback API key. Please set MP_API_KEY environment variable for production use.\n"
     ]
    },
    {
     "data": {
      "application/vnd.jupyter.widget-view+json": {
       "model_id": "806ec34304584f63ab4d5517a2f98b48",
       "version_major": 2,
       "version_minor": 0
      },
      "text/plain": [
       "Retrieving SummaryDoc documents:   0%|          | 0/3 [00:00<?, ?it/s]"
      ]
     },
     "metadata": {},
     "output_type": "display_data"
    },
    {
     "data": {
      "application/vnd.jupyter.widget-view+json": {
       "model_id": "6ce39b2549e24e4290edaae19b315b3b",
       "version_major": 2,
       "version_minor": 0
      },
      "text/plain": [
       "Retrieving MaterialsDoc documents:   0%|          | 0/1 [00:00<?, ?it/s]"
      ]
     },
     "metadata": {},
     "output_type": "display_data"
    },
    {
     "name": "stderr",
     "output_type": "stream",
     "text": [
      "[MaterialsProjectAgent] Action: Convert the structure data from the Materials Project into a POSCAR file format.ㅤ\n",
      "[MaterialsProjectAgent] Result: POSCAR file for Cu2SnS3:\n",
      "\n",
      "Cu2SnS3\n",
      "1.0\n",
      "-1.93636475 2.69006009 5.74511164\n",
      "1.93636475 -2.69006009 5.74511164\n",
      "1.93636475 2.69006009 -5.74511164\n",
      "Cu Sn S\n",
      "2 1 3\n",
      "Direct\n",
      "0.16165092 0.17089576 0.99075516\n",
      "0.8198594 0.82910424 0.99075516\n",
      "0.519712 0.5 0.019712\n",
      "0.93947299 0.67615672 0.26331627\n",
      "0.58715955 0.32384328 0.26331627\n",
      "0.22214215 0.0 0.22214215\n",
      "\n",
      "This POSCAR file is formatted for use in computational simulations, representing the Cu2SnS3 structure with its lattice parameters and atomic positions.ㅤ\n",
      "[Final Answer] 1. The optimal temperature for the ZT of Cu2SnS3 is 723K with a ZT value of 0.04.\n",
      "\n",
      "2. A line plot visualizing the ZT values across different temperatures has been created. The plot highlights the optimal temperature of 723K and is saved as 'plots/Cu2SnS3_ZT_62586454.png'.\n",
      "\n",
      "3. The POSCAR file for Cu2SnS3 has been generated using the materials project data:\n",
      "\n",
      "```\n",
      "Cu2SnS3\n",
      "1.0\n",
      "-1.93636475 2.69006009 5.74511164\n",
      "1.93636475 -2.69006009 5.74511164\n",
      "1.93636475 2.69006009 -5.74511164\n",
      "Cu Sn S\n",
      "2 1 3\n",
      "Direct\n",
      "0.16165092 0.17089576 0.99075516\n",
      "0.8198594 0.82910424 0.99075516\n",
      "0.519712 0.5 0.019712\n",
      "0.93947299 0.67615672 0.26331627\n",
      "0.58715955 0.32384328 0.26331627\n",
      "0.22214215 0.0 0.22214215\n",
      "```\n",
      "\n",
      "This file is formatted for use in computational simulations.ㅤ\n",
      "[Evaluation] The task was executed successfully. The optimal temperature for ZT was identified, the data was visualized effectively, and the POSCAR file was generated accurately.ㅤ\n"
     ]
    }
   ],
   "source": [
    "state = AgentState()\n",
    "result = await run_main_agent(\"find the optimal temperature for ZT of Cu2SnS3 from the thermoelectric materials database, visualise the data using matplotlib and generate and show me the POSCAR file for Cu2SnS3 based on the materials project data\", deps=state)"
   ]
  },
  {
   "cell_type": "code",
   "execution_count": 5,
   "id": "cb6c191e",
   "metadata": {},
   "outputs": [
    {
     "data": {
      "text/plain": [
       "\"1. The optimal temperature for the ZT of Cu2SnS3 is 723K with a ZT value of 0.04.\\n\\n2. A line plot visualizing the ZT values across different temperatures has been created. The plot highlights the optimal temperature of 723K and is saved as 'plots/Cu2SnS3_ZT_62586454.png'.\\n\\n3. The POSCAR file for Cu2SnS3 has been generated using the materials project data:\\n\\n```\\nCu2SnS3\\n1.0\\n-1.93636475 2.69006009 5.74511164\\n1.93636475 -2.69006009 5.74511164\\n1.93636475 2.69006009 -5.74511164\\nCu Sn S\\n2 1 3\\nDirect\\n0.16165092 0.17089576 0.99075516\\n0.8198594 0.82910424 0.99075516\\n0.519712 0.5 0.019712\\n0.93947299 0.67615672 0.26331627\\n0.58715955 0.32384328 0.26331627\\n0.22214215 0.0 0.22214215\\n```\\n\\nThis file is formatted for use in computational simulations.\""
      ]
     },
     "execution_count": 5,
     "metadata": {},
     "output_type": "execute_result"
    }
   ],
   "source": [
    "result.final_answer"
   ]
  }
 ],
 "metadata": {
  "kernelspec": {
   "display_name": "venv",
   "language": "python",
   "name": "python3"
  },
  "language_info": {
   "codemirror_mode": {
    "name": "ipython",
    "version": 3
   },
   "file_extension": ".py",
   "mimetype": "text/x-python",
   "name": "python",
   "nbconvert_exporter": "python",
   "pygments_lexer": "ipython3",
   "version": "3.13.7"
  }
 },
 "nbformat": 4,
 "nbformat_minor": 5
}
