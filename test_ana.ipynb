{
 "cells": [
  {
   "cell_type": "code",
   "execution_count": 1,
   "id": "45fbf17a",
   "metadata": {},
   "outputs": [],
   "source": [
    "%load_ext autoreload\n",
    "%autoreload 2"
   ]
  },
  {
   "cell_type": "code",
   "execution_count": 2,
   "id": "28758f21",
   "metadata": {},
   "outputs": [
    {
     "name": "stderr",
     "output_type": "stream",
     "text": [
      "[DatabaseAgent] Successfully loaded database from: /Users/eleutheria/Documents/GitHub/ChemDX_agentic_AI/chemdx_agent/databases/thermoelectrics.csv\n",
      "[DatabaseAgent] Database shape: (5205, 8), Columns: ['Formula', 'temperature(K)', 'seebeck_coefficient(μV/K)', 'electrical_conductivity(S/m)', 'thermal_conductivity(W/mK)', 'power_factor(W/mK2)', 'ZT', 'reference']\n"
     ]
    }
   ],
   "source": [
    "from chemdx_agent.main_agent import run_main_agent\n",
    "from chemdx_agent.schema import AgentState"
   ]
  },
  {
   "cell_type": "code",
   "execution_count": 4,
   "id": "8a374328",
   "metadata": {},
   "outputs": [
    {
     "name": "stderr",
     "output_type": "stream",
     "text": [
      "[Question] find the optimal temperature for ZT of Cu2SnS3 from the thermoelectric materials database, visualise the data using matplotlib and generate and show me the POSCAR file for Cu2SnS3 based on the materials project dataㅤ\n",
      "[DatabaseAgent] Message2Agent: Retrieve the thermoelectric properties of Cu2SnS3 from the thermoelectric materials database, focusing on the ZT values across different temperatures. Identify the temperature at which the ZT value is optimal (highest).ㅤ\n",
      "[DatabaseAgent] Action: Analyzed the ZT values of Cu2SnS3 across different temperatures to find the optimal temperature.ㅤ\n",
      "[DatabaseAgent] Result: The optimal temperature for ZT of Cu2SnS3 is 723K with a ZT value of 0.04. The data was analyzed over a temperature range of 323K to 723K.ㅤ\n",
      "[VisualisationAgent] Message2Agent: Visualize the ZT values of Cu2SnS3 across the temperature range of 323K to 723K using matplotlib. Highlight the optimal temperature of 723K where the ZT value is 0.04.ㅤ\n",
      "[VisualisationAgent] Action: Created a thermoelectric plot for Cu2SnS3 showing ZT values from 323K to 723K, highlighting the optimal temperature of 723K where ZT is 0.04.ㅤ\n",
      "[VisualisationAgent] Result: The plot has been successfully created and saved as 'plots/Cu2SnS3_ZT_95bdc434.png'. The data used for the plot is saved in 'plots/Cu2SnS3_ZT_95bdc434_data.csv'.ㅤ\n",
      "[MaterialsProjectAgent] Message2Agent: Generate the POSCAR file for Cu2SnS3 using the materials project data. Ensure the file is formatted correctly for use in computational simulations.\n",
      "[MaterialsProjectAgent] Using fallback API key. Please set MP_API_KEY environment variable for production use.\n"
     ]
    },
    {
     "data": {
      "application/vnd.jupyter.widget-view+json": {
       "model_id": "77c38c53a78040bfa6a37d24076d4cec",
       "version_major": 2,
       "version_minor": 0
      },
      "text/plain": [
       "Retrieving SummaryDoc documents:   0%|          | 0/3 [00:00<?, ?it/s]"
      ]
     },
     "metadata": {},
     "output_type": "display_data"
    },
    {
     "data": {
      "application/vnd.jupyter.widget-view+json": {
       "model_id": "c71e65b63d20441a99b3621a33a45c50",
       "version_major": 2,
       "version_minor": 0
      },
      "text/plain": [
       "Retrieving MaterialsDoc documents:   0%|          | 0/1 [00:00<?, ?it/s]"
      ]
     },
     "metadata": {},
     "output_type": "display_data"
    },
    {
     "name": "stderr",
     "output_type": "stream",
     "text": [
      "[MaterialsProjectAgent] Action: Convert the CIF data of Cu2SnS3 to POSCAR format for computational simulations.\n",
      "[MaterialsProjectAgent] Result: # POSCAR file for Cu2SnS3\n",
      "Cu2SnS3\n",
      "1.0\n",
      "6.63266458 0.00000000 0.00000000\n",
      "0.00000000 6.63266458 0.00000000\n",
      "0.00000000 0.00000000 6.63266458\n",
      "Cu Sn S\n",
      "2 1 3\n",
      "Direct\n",
      "0.16165092 0.17089576 0.99075516\n",
      "0.81985940 0.82910424 0.99075516\n",
      "0.51971200 0.50000000 0.01971200\n",
      "0.93947299 0.67615672 0.26331627\n",
      "0.58715955 0.32384328 0.26331627\n",
      "0.22214215 0.00000000 0.22214215\n",
      "[Final Answer] 1. The optimal temperature for the ZT of Cu2SnS3 is 723K, with a ZT value of 0.04.\n",
      "\n",
      "2. A plot visualizing the ZT values across the temperature range of 323K to 723K has been created. The plot highlights the optimal temperature of 723K. You can view the plot here: 'plots/Cu2SnS3_ZT_95bdc434.png'. The data used for the plot is saved in 'plots/Cu2SnS3_ZT_95bdc434_data.csv'.\n",
      "\n",
      "3. The POSCAR file for Cu2SnS3, formatted for computational simulations, is as follows:\n",
      "\n",
      "```\n",
      "# POSCAR file for Cu2SnS3\n",
      "Cu2SnS3\n",
      "1.0\n",
      "6.63266458 0.00000000 0.00000000\n",
      "0.00000000 6.63266458 0.00000000\n",
      "0.00000000 0.00000000 6.63266458\n",
      "Cu Sn S\n",
      "2 1 3\n",
      "Direct\n",
      "0.16165092 0.17089576 0.99075516\n",
      "0.81985940 0.82910424 0.99075516\n",
      "0.51971200 0.50000000 0.01971200\n",
      "0.93947299 0.67615672 0.26331627\n",
      "0.58715955 0.32384328 0.26331627\n",
      "0.22214215 0.00000000 0.22214215\n",
      "```\n",
      "ㅤ\n",
      "[Evaluation] The task was executed successfully. The optimal temperature for ZT was identified, the data was visualized, and the POSCAR file was generated accurately.ㅤ\n"
     ]
    }
   ],
   "source": [
    "state = AgentState()\n",
    "result = await run_main_agent(\"find the optimal temperature for ZT of Cu2SnS3 from the thermoelectric materials database, visualise the data using matplotlib and generate and show me the POSCAR file for Cu2SnS3 based on the materials project data\", deps=state)"
   ]
  },
  {
   "cell_type": "code",
   "execution_count": 4,
   "id": "cb6c191e",
   "metadata": {},
   "outputs": [
    {
     "data": {
      "text/plain": [
       "\"1. The optimal temperature for the ZT value of Cu2SnS3 is 723K with a ZT of 0.04. The data was collected over a temperature range of 323K to 723K.\\n\\n2. The trend of ZT values for Cu2SnS3 over the temperature range from 323K to 723K has been visualized. The plot is available at 'plots/top_zt_SnS091Se009_995e40bc.png'.\\n\\n3. A POSCAR file for EuZn2Sb2 has been successfully generated and saved at 'poscars/mp_ad2b6700/POSCAR'. The structure is based on the trigonal crystal system with spacegroup P-3m1.\""
      ]
     },
     "execution_count": 4,
     "metadata": {},
     "output_type": "execute_result"
    }
   ],
   "source": [
    "result.final_answer"
   ]
  }
 ],
 "metadata": {
  "kernelspec": {
   "display_name": "venv",
   "language": "python",
   "name": "python3"
  },
  "language_info": {
   "codemirror_mode": {
    "name": "ipython",
    "version": 3
   },
   "file_extension": ".py",
   "mimetype": "text/x-python",
   "name": "python",
   "nbconvert_exporter": "python",
   "pygments_lexer": "ipython3",
   "version": "3.13.7"
  }
 },
 "nbformat": 4,
 "nbformat_minor": 5
}
