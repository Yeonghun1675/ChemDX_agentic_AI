{
 "cells": [
  {
   "cell_type": "code",
   "execution_count": 1,
   "id": "45fbf17a",
   "metadata": {},
   "outputs": [],
   "source": [
    "%load_ext autoreload\n",
    "%autoreload 2"
   ]
  },
  {
   "cell_type": "code",
   "execution_count": 7,
   "id": "28758f21",
   "metadata": {},
   "outputs": [],
   "source": [
    "from chemdx_agent.main_agent import run_main_agent\n",
    "from chemdx_agent.schema import AgentState"
   ]
  },
  {
   "cell_type": "code",
   "execution_count": 8,
   "id": "ef74aa9c",
   "metadata": {},
   "outputs": [],
   "source": [
    "deps = AgentState()"
   ]
  },
  {
   "cell_type": "code",
   "execution_count": null,
   "id": "bef2c4b4",
   "metadata": {},
   "outputs": [
    {
     "ename": "AttributeError",
     "evalue": "'AgentState' object has no attribute '_lock'",
     "output_type": "error",
     "traceback": [
      "\u001b[0;31m---------------------------------------------------------------------------\u001b[0m",
      "\u001b[0;31mAttributeError\u001b[0m                            Traceback (most recent call last)",
      "Cell \u001b[0;32mIn[11], line 1\u001b[0m\n\u001b[0;32m----> 1\u001b[0m \u001b[43mdeps\u001b[49m\u001b[38;5;241;43m.\u001b[39;49m\u001b[43m_lock\u001b[49m\n",
      "File \u001b[0;32m/opt/homebrew/Caskroom/miniconda/base/envs/safety_sdl/lib/python3.10/site-packages/pydantic/main.py:991\u001b[0m, in \u001b[0;36mBaseModel.__getattr__\u001b[0;34m(self, item)\u001b[0m\n\u001b[1;32m    988\u001b[0m     \u001b[38;5;28;01mreturn\u001b[39;00m \u001b[38;5;28msuper\u001b[39m()\u001b[38;5;241m.\u001b[39m\u001b[38;5;21m__getattribute__\u001b[39m(item)  \u001b[38;5;66;03m# Raises AttributeError if appropriate\u001b[39;00m\n\u001b[1;32m    989\u001b[0m \u001b[38;5;28;01melse\u001b[39;00m:\n\u001b[1;32m    990\u001b[0m     \u001b[38;5;66;03m# this is the current error\u001b[39;00m\n\u001b[0;32m--> 991\u001b[0m     \u001b[38;5;28;01mraise\u001b[39;00m \u001b[38;5;167;01mAttributeError\u001b[39;00m(\u001b[38;5;124mf\u001b[39m\u001b[38;5;124m'\u001b[39m\u001b[38;5;132;01m{\u001b[39;00m\u001b[38;5;28mtype\u001b[39m(\u001b[38;5;28mself\u001b[39m)\u001b[38;5;241m.\u001b[39m\u001b[38;5;18m__name__\u001b[39m\u001b[38;5;132;01m!r}\u001b[39;00m\u001b[38;5;124m object has no attribute \u001b[39m\u001b[38;5;132;01m{\u001b[39;00mitem\u001b[38;5;132;01m!r}\u001b[39;00m\u001b[38;5;124m'\u001b[39m)\n",
      "\u001b[0;31mAttributeError\u001b[0m: 'AgentState' object has no attribute '_lock'"
     ]
    }
   ],
   "source": [
    "deps.lock"
   ]
  },
  {
   "cell_type": "code",
   "execution_count": 10,
   "id": "8a374328",
   "metadata": {},
   "outputs": [
    {
     "name": "stderr",
     "output_type": "stream",
     "text": [
      "[Question] what is the Ba2BiV3O11 emission max, decay time, and color\n",
      "[SampleAgent] Message2Agent: Retrieve the emission maximum, decay time, and color of Ba2BiV3O11 from the ChemDX database.\n"
     ]
    },
    {
     "ename": "AttributeError",
     "evalue": "'AgentState' object has no attribute '_lock'",
     "output_type": "error",
     "traceback": [
      "\u001b[0;31m---------------------------------------------------------------------------\u001b[0m",
      "\u001b[0;31mAttributeError\u001b[0m                            Traceback (most recent call last)",
      "Cell \u001b[0;32mIn[10], line 1\u001b[0m\n\u001b[0;32m----> 1\u001b[0m result \u001b[38;5;241m=\u001b[39m \u001b[38;5;28;01mawait\u001b[39;00m run_main_agent(\u001b[38;5;124m\"\u001b[39m\u001b[38;5;124mwhat is the Ba2BiV3O11 emission max, decay time, and color\u001b[39m\u001b[38;5;124m\"\u001b[39m, deps\u001b[38;5;241m=\u001b[39mdeps)\n",
      "File \u001b[0;32m~/VisualStudio/krict_hackathon/chemdx_agent/main_agent.py:38\u001b[0m, in \u001b[0;36mrun_main_agent\u001b[0;34m(message, deps)\u001b[0m\n\u001b[1;32m     36\u001b[0m logger\u001b[38;5;241m.\u001b[39minfo(\u001b[38;5;124mf\u001b[39m\u001b[38;5;124m\"\u001b[39m\u001b[38;5;124m[Question] \u001b[39m\u001b[38;5;132;01m{\u001b[39;00mmessage\u001b[38;5;132;01m}\u001b[39;00m\u001b[38;5;124m\"\u001b[39m)\n\u001b[1;32m     37\u001b[0m deps\u001b[38;5;241m.\u001b[39mmain_task \u001b[38;5;241m=\u001b[39m message\n\u001b[0;32m---> 38\u001b[0m result \u001b[38;5;241m=\u001b[39m \u001b[38;5;28;01mawait\u001b[39;00m main_agent\u001b[38;5;241m.\u001b[39mrun(message, deps\u001b[38;5;241m=\u001b[39mdeps)\n\u001b[1;32m     39\u001b[0m output \u001b[38;5;241m=\u001b[39m result\u001b[38;5;241m.\u001b[39moutput\n\u001b[1;32m     40\u001b[0m logger\u001b[38;5;241m.\u001b[39minfo(\u001b[38;5;124mf\u001b[39m\u001b[38;5;124m\"\u001b[39m\u001b[38;5;124m[Final Answer] \u001b[39m\u001b[38;5;132;01m{\u001b[39;00moutput\u001b[38;5;241m.\u001b[39mfinal_answer\u001b[38;5;132;01m}\u001b[39;00m\u001b[38;5;124m\"\u001b[39m)\n",
      "File \u001b[0;32m/opt/homebrew/Caskroom/miniconda/base/envs/safety_sdl/lib/python3.10/site-packages/pydantic_ai/agent.py:484\u001b[0m, in \u001b[0;36mAgent.run\u001b[0;34m(self, user_prompt, output_type, message_history, model, deps, model_settings, usage_limits, usage, infer_name, **_deprecated_kwargs)\u001b[0m\n\u001b[1;32m    472\u001b[0m     output_type \u001b[38;5;241m=\u001b[39m _deprecated_kwargs[\u001b[38;5;124m'\u001b[39m\u001b[38;5;124mresult_type\u001b[39m\u001b[38;5;124m'\u001b[39m]\n\u001b[1;32m    474\u001b[0m \u001b[38;5;28;01masync\u001b[39;00m \u001b[38;5;28;01mwith\u001b[39;00m \u001b[38;5;28mself\u001b[39m\u001b[38;5;241m.\u001b[39miter(\n\u001b[1;32m    475\u001b[0m     user_prompt\u001b[38;5;241m=\u001b[39muser_prompt,\n\u001b[1;32m    476\u001b[0m     output_type\u001b[38;5;241m=\u001b[39moutput_type,\n\u001b[0;32m   (...)\u001b[0m\n\u001b[1;32m    482\u001b[0m     usage\u001b[38;5;241m=\u001b[39musage,\n\u001b[1;32m    483\u001b[0m ) \u001b[38;5;28;01mas\u001b[39;00m agent_run:\n\u001b[0;32m--> 484\u001b[0m     \u001b[38;5;28;01masync\u001b[39;00m \u001b[38;5;28;01mfor\u001b[39;00m _ \u001b[38;5;129;01min\u001b[39;00m agent_run:\n\u001b[1;32m    485\u001b[0m         \u001b[38;5;28;01mpass\u001b[39;00m\n\u001b[1;32m    487\u001b[0m \u001b[38;5;28;01massert\u001b[39;00m agent_run\u001b[38;5;241m.\u001b[39mresult \u001b[38;5;129;01mis\u001b[39;00m \u001b[38;5;129;01mnot\u001b[39;00m \u001b[38;5;28;01mNone\u001b[39;00m, \u001b[38;5;124m'\u001b[39m\u001b[38;5;124mThe graph run did not finish properly\u001b[39m\u001b[38;5;124m'\u001b[39m\n",
      "File \u001b[0;32m/opt/homebrew/Caskroom/miniconda/base/envs/safety_sdl/lib/python3.10/site-packages/pydantic_ai/agent.py:1963\u001b[0m, in \u001b[0;36mAgentRun.__anext__\u001b[0;34m(self)\u001b[0m\n\u001b[1;32m   1959\u001b[0m \u001b[38;5;28;01masync\u001b[39;00m \u001b[38;5;28;01mdef\u001b[39;00m\u001b[38;5;250m \u001b[39m\u001b[38;5;21m__anext__\u001b[39m(\n\u001b[1;32m   1960\u001b[0m     \u001b[38;5;28mself\u001b[39m,\n\u001b[1;32m   1961\u001b[0m ) \u001b[38;5;241m-\u001b[39m\u001b[38;5;241m>\u001b[39m _agent_graph\u001b[38;5;241m.\u001b[39mAgentNode[AgentDepsT, OutputDataT] \u001b[38;5;241m|\u001b[39m End[FinalResult[OutputDataT]]:\n\u001b[1;32m   1962\u001b[0m \u001b[38;5;250m    \u001b[39m\u001b[38;5;124;03m\"\"\"Advance to the next node automatically based on the last returned node.\"\"\"\u001b[39;00m\n\u001b[0;32m-> 1963\u001b[0m     next_node \u001b[38;5;241m=\u001b[39m \u001b[38;5;28;01mawait\u001b[39;00m \u001b[38;5;28mself\u001b[39m\u001b[38;5;241m.\u001b[39m_graph_run\u001b[38;5;241m.\u001b[39m\u001b[38;5;21m__anext__\u001b[39m()\n\u001b[1;32m   1964\u001b[0m     \u001b[38;5;28;01mif\u001b[39;00m _agent_graph\u001b[38;5;241m.\u001b[39mis_agent_node(next_node):\n\u001b[1;32m   1965\u001b[0m         \u001b[38;5;28;01mreturn\u001b[39;00m next_node\n",
      "File \u001b[0;32m/opt/homebrew/Caskroom/miniconda/base/envs/safety_sdl/lib/python3.10/site-packages/pydantic_graph/graph.py:809\u001b[0m, in \u001b[0;36mGraphRun.__anext__\u001b[0;34m(self)\u001b[0m\n\u001b[1;32m    806\u001b[0m \u001b[38;5;28;01mif\u001b[39;00m \u001b[38;5;28misinstance\u001b[39m(\u001b[38;5;28mself\u001b[39m\u001b[38;5;241m.\u001b[39m_next_node, End):\n\u001b[1;32m    807\u001b[0m     \u001b[38;5;28;01mraise\u001b[39;00m \u001b[38;5;167;01mStopAsyncIteration\u001b[39;00m\n\u001b[0;32m--> 809\u001b[0m \u001b[38;5;28;01mreturn\u001b[39;00m \u001b[38;5;28;01mawait\u001b[39;00m \u001b[38;5;28mself\u001b[39m\u001b[38;5;241m.\u001b[39mnext(\u001b[38;5;28mself\u001b[39m\u001b[38;5;241m.\u001b[39m_next_node)\n",
      "File \u001b[0;32m/opt/homebrew/Caskroom/miniconda/base/envs/safety_sdl/lib/python3.10/site-packages/pydantic_graph/graph.py:782\u001b[0m, in \u001b[0;36mGraphRun.next\u001b[0;34m(self, node)\u001b[0m\n\u001b[1;32m    780\u001b[0m     \u001b[38;5;28;01masync\u001b[39;00m \u001b[38;5;28;01mwith\u001b[39;00m \u001b[38;5;28mself\u001b[39m\u001b[38;5;241m.\u001b[39mpersistence\u001b[38;5;241m.\u001b[39mrecord_run(node_snapshot_id):\n\u001b[1;32m    781\u001b[0m         ctx \u001b[38;5;241m=\u001b[39m GraphRunContext(\u001b[38;5;28mself\u001b[39m\u001b[38;5;241m.\u001b[39mstate, \u001b[38;5;28mself\u001b[39m\u001b[38;5;241m.\u001b[39mdeps)\n\u001b[0;32m--> 782\u001b[0m         \u001b[38;5;28mself\u001b[39m\u001b[38;5;241m.\u001b[39m_next_node \u001b[38;5;241m=\u001b[39m \u001b[38;5;28;01mawait\u001b[39;00m node\u001b[38;5;241m.\u001b[39mrun(ctx)\n\u001b[1;32m    784\u001b[0m \u001b[38;5;28;01mif\u001b[39;00m \u001b[38;5;28misinstance\u001b[39m(\u001b[38;5;28mself\u001b[39m\u001b[38;5;241m.\u001b[39m_next_node, End):\n\u001b[1;32m    785\u001b[0m     \u001b[38;5;28mself\u001b[39m\u001b[38;5;241m.\u001b[39m_snapshot_id \u001b[38;5;241m=\u001b[39m \u001b[38;5;28mself\u001b[39m\u001b[38;5;241m.\u001b[39m_next_node\u001b[38;5;241m.\u001b[39mget_snapshot_id()\n",
      "File \u001b[0;32m/opt/homebrew/Caskroom/miniconda/base/envs/safety_sdl/lib/python3.10/site-packages/pydantic_ai/_agent_graph.py:443\u001b[0m, in \u001b[0;36mCallToolsNode.run\u001b[0;34m(self, ctx)\u001b[0m\n\u001b[1;32m    440\u001b[0m \u001b[38;5;28;01masync\u001b[39;00m \u001b[38;5;28;01mdef\u001b[39;00m\u001b[38;5;250m \u001b[39m\u001b[38;5;21mrun\u001b[39m(\n\u001b[1;32m    441\u001b[0m     \u001b[38;5;28mself\u001b[39m, ctx: GraphRunContext[GraphAgentState, GraphAgentDeps[DepsT, NodeRunEndT]]\n\u001b[1;32m    442\u001b[0m ) \u001b[38;5;241m-\u001b[39m\u001b[38;5;241m>\u001b[39m Union[ModelRequestNode[DepsT, NodeRunEndT], End[result\u001b[38;5;241m.\u001b[39mFinalResult[NodeRunEndT]]]:  \u001b[38;5;66;03m# noqa UP007\u001b[39;00m\n\u001b[0;32m--> 443\u001b[0m     \u001b[38;5;28;01masync\u001b[39;00m \u001b[38;5;28;01mwith\u001b[39;00m \u001b[38;5;28mself\u001b[39m\u001b[38;5;241m.\u001b[39mstream(ctx):\n\u001b[1;32m    444\u001b[0m         \u001b[38;5;28;01mpass\u001b[39;00m\n\u001b[1;32m    445\u001b[0m     \u001b[38;5;28;01massert\u001b[39;00m \u001b[38;5;28mself\u001b[39m\u001b[38;5;241m.\u001b[39m_next_node \u001b[38;5;129;01mis\u001b[39;00m \u001b[38;5;129;01mnot\u001b[39;00m \u001b[38;5;28;01mNone\u001b[39;00m, \u001b[38;5;124m'\u001b[39m\u001b[38;5;124mthe stream should set `self._next_node` before it ends\u001b[39m\u001b[38;5;124m'\u001b[39m\n",
      "File \u001b[0;32m/opt/homebrew/Caskroom/miniconda/base/envs/safety_sdl/lib/python3.10/contextlib.py:206\u001b[0m, in \u001b[0;36m_AsyncGeneratorContextManager.__aexit__\u001b[0;34m(self, typ, value, traceback)\u001b[0m\n\u001b[1;32m    204\u001b[0m \u001b[38;5;28;01mif\u001b[39;00m typ \u001b[38;5;129;01mis\u001b[39;00m \u001b[38;5;28;01mNone\u001b[39;00m:\n\u001b[1;32m    205\u001b[0m     \u001b[38;5;28;01mtry\u001b[39;00m:\n\u001b[0;32m--> 206\u001b[0m         \u001b[38;5;28;01mawait\u001b[39;00m anext(\u001b[38;5;28mself\u001b[39m\u001b[38;5;241m.\u001b[39mgen)\n\u001b[1;32m    207\u001b[0m     \u001b[38;5;28;01mexcept\u001b[39;00m \u001b[38;5;167;01mStopAsyncIteration\u001b[39;00m:\n\u001b[1;32m    208\u001b[0m         \u001b[38;5;28;01mreturn\u001b[39;00m \u001b[38;5;28;01mFalse\u001b[39;00m\n",
      "File \u001b[0;32m/opt/homebrew/Caskroom/miniconda/base/envs/safety_sdl/lib/python3.10/site-packages/pydantic_ai/_agent_graph.py:457\u001b[0m, in \u001b[0;36mCallToolsNode.stream\u001b[0;34m(self, ctx)\u001b[0m\n\u001b[1;32m    454\u001b[0m \u001b[38;5;28;01myield\u001b[39;00m stream\n\u001b[1;32m    456\u001b[0m \u001b[38;5;66;03m# Run the stream to completion if it was not finished:\u001b[39;00m\n\u001b[0;32m--> 457\u001b[0m \u001b[38;5;28;01masync\u001b[39;00m \u001b[38;5;28;01mfor\u001b[39;00m _event \u001b[38;5;129;01min\u001b[39;00m stream:\n\u001b[1;32m    458\u001b[0m     \u001b[38;5;28;01mpass\u001b[39;00m\n",
      "File \u001b[0;32m/opt/homebrew/Caskroom/miniconda/base/envs/safety_sdl/lib/python3.10/site-packages/pydantic_ai/_agent_graph.py:512\u001b[0m, in \u001b[0;36mCallToolsNode._run_stream\u001b[0;34m(self, ctx)\u001b[0m\n\u001b[1;32m    508\u001b[0m             \u001b[38;5;28;01mraise\u001b[39;00m exceptions\u001b[38;5;241m.\u001b[39mUnexpectedModelBehavior(\u001b[38;5;124m'\u001b[39m\u001b[38;5;124mReceived empty model response\u001b[39m\u001b[38;5;124m'\u001b[39m)\n\u001b[1;32m    510\u001b[0m     \u001b[38;5;28mself\u001b[39m\u001b[38;5;241m.\u001b[39m_events_iterator \u001b[38;5;241m=\u001b[39m _run_stream()\n\u001b[0;32m--> 512\u001b[0m \u001b[38;5;28;01masync\u001b[39;00m \u001b[38;5;28;01mfor\u001b[39;00m event \u001b[38;5;129;01min\u001b[39;00m \u001b[38;5;28mself\u001b[39m\u001b[38;5;241m.\u001b[39m_events_iterator:\n\u001b[1;32m    513\u001b[0m     \u001b[38;5;28;01myield\u001b[39;00m event\n",
      "File \u001b[0;32m/opt/homebrew/Caskroom/miniconda/base/envs/safety_sdl/lib/python3.10/site-packages/pydantic_ai/_agent_graph.py:490\u001b[0m, in \u001b[0;36mCallToolsNode._run_stream.<locals>._run_stream\u001b[0;34m()\u001b[0m\n\u001b[1;32m    485\u001b[0m \u001b[38;5;66;03m# At the moment, we prioritize at least executing tool calls if they are present.\u001b[39;00m\n\u001b[1;32m    486\u001b[0m \u001b[38;5;66;03m# In the future, we'd consider making this configurable at the agent or run level.\u001b[39;00m\n\u001b[1;32m    487\u001b[0m \u001b[38;5;66;03m# This accounts for cases like anthropic returns that might contain a text response\u001b[39;00m\n\u001b[1;32m    488\u001b[0m \u001b[38;5;66;03m# and a tool call response, where the text response just indicates the tool call will happen.\u001b[39;00m\n\u001b[1;32m    489\u001b[0m \u001b[38;5;28;01mif\u001b[39;00m tool_calls:\n\u001b[0;32m--> 490\u001b[0m     \u001b[38;5;28;01masync\u001b[39;00m \u001b[38;5;28;01mfor\u001b[39;00m event \u001b[38;5;129;01min\u001b[39;00m \u001b[38;5;28mself\u001b[39m\u001b[38;5;241m.\u001b[39m_handle_tool_calls(ctx, tool_calls):\n\u001b[1;32m    491\u001b[0m         \u001b[38;5;28;01myield\u001b[39;00m event\n\u001b[1;32m    492\u001b[0m \u001b[38;5;28;01melif\u001b[39;00m texts:\n\u001b[1;32m    493\u001b[0m     \u001b[38;5;66;03m# No events are emitted during the handling of text responses, so we don't need to yield anything\u001b[39;00m\n",
      "File \u001b[0;32m/opt/homebrew/Caskroom/miniconda/base/envs/safety_sdl/lib/python3.10/site-packages/pydantic_ai/_agent_graph.py:543\u001b[0m, in \u001b[0;36mCallToolsNode._handle_tool_calls\u001b[0;34m(self, ctx, tool_calls)\u001b[0m\n\u001b[1;32m    541\u001b[0m \u001b[38;5;66;03m# Then build the other request parts based on end strategy\u001b[39;00m\n\u001b[1;32m    542\u001b[0m tool_responses: \u001b[38;5;28mlist\u001b[39m[_messages\u001b[38;5;241m.\u001b[39mModelRequestPart] \u001b[38;5;241m=\u001b[39m \u001b[38;5;28mself\u001b[39m\u001b[38;5;241m.\u001b[39m_tool_responses\n\u001b[0;32m--> 543\u001b[0m \u001b[38;5;28;01masync\u001b[39;00m \u001b[38;5;28;01mfor\u001b[39;00m event \u001b[38;5;129;01min\u001b[39;00m process_function_tools(\n\u001b[1;32m    544\u001b[0m     tool_calls,\n\u001b[1;32m    545\u001b[0m     final_result \u001b[38;5;129;01mand\u001b[39;00m final_result\u001b[38;5;241m.\u001b[39mtool_name,\n\u001b[1;32m    546\u001b[0m     final_result \u001b[38;5;129;01mand\u001b[39;00m final_result\u001b[38;5;241m.\u001b[39mtool_call_id,\n\u001b[1;32m    547\u001b[0m     ctx,\n\u001b[1;32m    548\u001b[0m     tool_responses,\n\u001b[1;32m    549\u001b[0m ):\n\u001b[1;32m    550\u001b[0m     \u001b[38;5;28;01myield\u001b[39;00m event\n\u001b[1;32m    552\u001b[0m \u001b[38;5;28;01mif\u001b[39;00m final_result:\n",
      "File \u001b[0;32m/opt/homebrew/Caskroom/miniconda/base/envs/safety_sdl/lib/python3.10/site-packages/pydantic_ai/_agent_graph.py:734\u001b[0m, in \u001b[0;36mprocess_function_tools\u001b[0;34m(tool_calls, output_tool_name, output_tool_call_id, ctx, output_parts)\u001b[0m\n\u001b[1;32m    732\u001b[0m \u001b[38;5;28;01mfor\u001b[39;00m task \u001b[38;5;129;01min\u001b[39;00m done:\n\u001b[1;32m    733\u001b[0m     index \u001b[38;5;241m=\u001b[39m tasks\u001b[38;5;241m.\u001b[39mindex(task)\n\u001b[0;32m--> 734\u001b[0m     result \u001b[38;5;241m=\u001b[39m \u001b[43mtask\u001b[49m\u001b[38;5;241;43m.\u001b[39;49m\u001b[43mresult\u001b[49m\u001b[43m(\u001b[49m\u001b[43m)\u001b[49m\n\u001b[1;32m    735\u001b[0m     \u001b[38;5;28;01myield\u001b[39;00m _messages\u001b[38;5;241m.\u001b[39mFunctionToolResultEvent(result, tool_call_id\u001b[38;5;241m=\u001b[39mcall_index_to_event_id[index])\n\u001b[1;32m    737\u001b[0m     \u001b[38;5;28;01mif\u001b[39;00m \u001b[38;5;28misinstance\u001b[39m(result, _messages\u001b[38;5;241m.\u001b[39mRetryPromptPart):\n",
      "File \u001b[0;32m/opt/homebrew/Caskroom/miniconda/base/envs/safety_sdl/lib/python3.10/site-packages/pydantic_ai/tools.py:356\u001b[0m, in \u001b[0;36mTool.run\u001b[0;34m(self, message, run_context, tracer)\u001b[0m\n\u001b[1;32m    337\u001b[0m span_attributes \u001b[38;5;241m=\u001b[39m {\n\u001b[1;32m    338\u001b[0m     \u001b[38;5;124m'\u001b[39m\u001b[38;5;124mgen_ai.tool.name\u001b[39m\u001b[38;5;124m'\u001b[39m: \u001b[38;5;28mself\u001b[39m\u001b[38;5;241m.\u001b[39mname,\n\u001b[1;32m    339\u001b[0m     \u001b[38;5;66;03m# NOTE: this means `gen_ai.tool.call.id` will be included even if it was generated by pydantic-ai\u001b[39;00m\n\u001b[0;32m   (...)\u001b[0m\n\u001b[1;32m    353\u001b[0m     ),\n\u001b[1;32m    354\u001b[0m }\n\u001b[1;32m    355\u001b[0m \u001b[38;5;28;01mwith\u001b[39;00m tracer\u001b[38;5;241m.\u001b[39mstart_as_current_span(\u001b[38;5;124m'\u001b[39m\u001b[38;5;124mrunning tool\u001b[39m\u001b[38;5;124m'\u001b[39m, attributes\u001b[38;5;241m=\u001b[39mspan_attributes):\n\u001b[0;32m--> 356\u001b[0m     \u001b[38;5;28;01mreturn\u001b[39;00m \u001b[38;5;28;01mawait\u001b[39;00m \u001b[38;5;28mself\u001b[39m\u001b[38;5;241m.\u001b[39m_run(message, run_context)\n",
      "File \u001b[0;32m/opt/homebrew/Caskroom/miniconda/base/envs/safety_sdl/lib/python3.10/site-packages/pydantic_ai/tools.py:377\u001b[0m, in \u001b[0;36mTool._run\u001b[0;34m(self, message, run_context)\u001b[0m\n\u001b[1;32m    370\u001b[0m ctx \u001b[38;5;241m=\u001b[39m dataclasses\u001b[38;5;241m.\u001b[39mreplace(\n\u001b[1;32m    371\u001b[0m     run_context,\n\u001b[1;32m    372\u001b[0m     retry\u001b[38;5;241m=\u001b[39m\u001b[38;5;28mself\u001b[39m\u001b[38;5;241m.\u001b[39mcurrent_retry,\n\u001b[1;32m    373\u001b[0m     tool_name\u001b[38;5;241m=\u001b[39mmessage\u001b[38;5;241m.\u001b[39mtool_name,\n\u001b[1;32m    374\u001b[0m     tool_call_id\u001b[38;5;241m=\u001b[39mmessage\u001b[38;5;241m.\u001b[39mtool_call_id,\n\u001b[1;32m    375\u001b[0m )\n\u001b[1;32m    376\u001b[0m \u001b[38;5;28;01mtry\u001b[39;00m:\n\u001b[0;32m--> 377\u001b[0m     response_content \u001b[38;5;241m=\u001b[39m \u001b[38;5;28;01mawait\u001b[39;00m \u001b[38;5;28mself\u001b[39m\u001b[38;5;241m.\u001b[39mfunction_schema\u001b[38;5;241m.\u001b[39mcall(args_dict, ctx)\n\u001b[1;32m    378\u001b[0m \u001b[38;5;28;01mexcept\u001b[39;00m ModelRetry \u001b[38;5;28;01mas\u001b[39;00m e:\n\u001b[1;32m    379\u001b[0m     \u001b[38;5;28;01mreturn\u001b[39;00m \u001b[38;5;28mself\u001b[39m\u001b[38;5;241m.\u001b[39m_on_error(e, message)\n",
      "File \u001b[0;32m/opt/homebrew/Caskroom/miniconda/base/envs/safety_sdl/lib/python3.10/site-packages/pydantic_ai/_function_schema.py:52\u001b[0m, in \u001b[0;36mFunctionSchema.call\u001b[0;34m(self, args_dict, ctx)\u001b[0m\n\u001b[1;32m     50\u001b[0m \u001b[38;5;28;01mif\u001b[39;00m \u001b[38;5;28mself\u001b[39m\u001b[38;5;241m.\u001b[39mis_async:\n\u001b[1;32m     51\u001b[0m     function \u001b[38;5;241m=\u001b[39m cast(Callable[[Any], Awaitable[\u001b[38;5;28mstr\u001b[39m]], \u001b[38;5;28mself\u001b[39m\u001b[38;5;241m.\u001b[39mfunction)\n\u001b[0;32m---> 52\u001b[0m     \u001b[38;5;28;01mreturn\u001b[39;00m \u001b[38;5;28;01mawait\u001b[39;00m function(\u001b[38;5;241m*\u001b[39margs, \u001b[38;5;241m*\u001b[39m\u001b[38;5;241m*\u001b[39mkwargs)\n\u001b[1;32m     53\u001b[0m \u001b[38;5;28;01melse\u001b[39;00m:\n\u001b[1;32m     54\u001b[0m     function \u001b[38;5;241m=\u001b[39m cast(Callable[[Any], \u001b[38;5;28mstr\u001b[39m], \u001b[38;5;28mself\u001b[39m\u001b[38;5;241m.\u001b[39mfunction)\n",
      "File \u001b[0;32m~/VisualStudio/krict_hackathon/chemdx_agent/agents/sample_agent/subagent.py:74\u001b[0m, in \u001b[0;36mcall_sample_agent\u001b[0;34m(ctx, message2agent)\u001b[0m\n\u001b[1;32m     69\u001b[0m result \u001b[38;5;241m=\u001b[39m \u001b[38;5;28;01mawait\u001b[39;00m sample_agent\u001b[38;5;241m.\u001b[39mrun(\n\u001b[1;32m     70\u001b[0m     user_prompt, deps\u001b[38;5;241m=\u001b[39mdeps\n\u001b[1;32m     71\u001b[0m )\n\u001b[1;32m     73\u001b[0m output \u001b[38;5;241m=\u001b[39m result\u001b[38;5;241m.\u001b[39moutput\n\u001b[0;32m---> 74\u001b[0m \u001b[43mdeps\u001b[49m\u001b[38;5;241;43m.\u001b[39;49m\u001b[43madd_working_memory\u001b[49m\u001b[43m(\u001b[49m\u001b[43magent_name\u001b[49m\u001b[43m,\u001b[49m\u001b[43m \u001b[49m\u001b[43mmessage2agent\u001b[49m\u001b[43m)\u001b[49m\n\u001b[1;32m     75\u001b[0m deps\u001b[38;5;241m.\u001b[39mincrement_step()\n\u001b[1;32m     77\u001b[0m logger\u001b[38;5;241m.\u001b[39minfo(\u001b[38;5;124mf\u001b[39m\u001b[38;5;124m\"\u001b[39m\u001b[38;5;124m[\u001b[39m\u001b[38;5;132;01m{\u001b[39;00magent_name\u001b[38;5;132;01m}\u001b[39;00m\u001b[38;5;124m] Action: \u001b[39m\u001b[38;5;132;01m{\u001b[39;00moutput\u001b[38;5;241m.\u001b[39maction\u001b[38;5;132;01m}\u001b[39;00m\u001b[38;5;124m\"\u001b[39m)\n",
      "File \u001b[0;32m~/VisualStudio/krict_hackathon/chemdx_agent/schema.py:31\u001b[0m, in \u001b[0;36mAgentState.add_working_memory\u001b[0;34m(self, agent_name, memory)\u001b[0m\n\u001b[1;32m     30\u001b[0m \u001b[38;5;28;01mdef\u001b[39;00m\u001b[38;5;250m \u001b[39m\u001b[38;5;21madd_working_memory\u001b[39m(\u001b[38;5;28mself\u001b[39m, agent_name: \u001b[38;5;28mstr\u001b[39m, memory: \u001b[38;5;28mstr\u001b[39m):\n\u001b[0;32m---> 31\u001b[0m     \u001b[38;5;28;01mwith\u001b[39;00m \u001b[38;5;28;43mself\u001b[39;49m\u001b[38;5;241;43m.\u001b[39;49m\u001b[43m_lock\u001b[49m:\n\u001b[1;32m     32\u001b[0m         \u001b[38;5;28mself\u001b[39m\u001b[38;5;241m.\u001b[39mworking_memory\u001b[38;5;241m.\u001b[39mappend(\u001b[38;5;124mf\u001b[39m\u001b[38;5;124m\"\u001b[39m\u001b[38;5;124m[\u001b[39m\u001b[38;5;132;01m{\u001b[39;00magent_name\u001b[38;5;132;01m}\u001b[39;00m\u001b[38;5;124m] \u001b[39m\u001b[38;5;132;01m{\u001b[39;00mmemory\u001b[38;5;132;01m}\u001b[39;00m\u001b[38;5;124m\"\u001b[39m)\n",
      "File \u001b[0;32m/opt/homebrew/Caskroom/miniconda/base/envs/safety_sdl/lib/python3.10/site-packages/pydantic/main.py:991\u001b[0m, in \u001b[0;36mBaseModel.__getattr__\u001b[0;34m(self, item)\u001b[0m\n\u001b[1;32m    988\u001b[0m     \u001b[38;5;28;01mreturn\u001b[39;00m \u001b[38;5;28msuper\u001b[39m()\u001b[38;5;241m.\u001b[39m\u001b[38;5;21m__getattribute__\u001b[39m(item)  \u001b[38;5;66;03m# Raises AttributeError if appropriate\u001b[39;00m\n\u001b[1;32m    989\u001b[0m \u001b[38;5;28;01melse\u001b[39;00m:\n\u001b[1;32m    990\u001b[0m     \u001b[38;5;66;03m# this is the current error\u001b[39;00m\n\u001b[0;32m--> 991\u001b[0m     \u001b[38;5;28;01mraise\u001b[39;00m \u001b[38;5;167;01mAttributeError\u001b[39;00m(\u001b[38;5;124mf\u001b[39m\u001b[38;5;124m'\u001b[39m\u001b[38;5;132;01m{\u001b[39;00m\u001b[38;5;28mtype\u001b[39m(\u001b[38;5;28mself\u001b[39m)\u001b[38;5;241m.\u001b[39m\u001b[38;5;18m__name__\u001b[39m\u001b[38;5;132;01m!r}\u001b[39;00m\u001b[38;5;124m object has no attribute \u001b[39m\u001b[38;5;132;01m{\u001b[39;00mitem\u001b[38;5;132;01m!r}\u001b[39;00m\u001b[38;5;124m'\u001b[39m)\n",
      "\u001b[0;31mAttributeError\u001b[0m: 'AgentState' object has no attribute '_lock'"
     ]
    }
   ],
   "source": [
    "result = await run_main_agent(\"what is the Ba2BiV3O11 emission max, decay time, and color\", deps=deps)"
   ]
  },
  {
   "cell_type": "code",
   "execution_count": null,
   "id": "cb6c191e",
   "metadata": {},
   "outputs": [
    {
     "data": {
      "text/plain": [
       "FinalAnswer(task='Retrieve the refcode for IRMOF-1.', final_answer='The refcode for IRMOF-1 is FEJWOE.', evaluation='The task was successfully completed as the refcode for IRMOF-1 was accurately retrieved.')"
      ]
     },
     "metadata": {},
     "output_type": "display_data"
    }
   ],
   "source": [
    "result.output"
   ]
  }
 ],
 "metadata": {
  "kernelspec": {
   "display_name": "safety_sdl",
   "language": "python",
   "name": "python3"
  },
  "language_info": {
   "codemirror_mode": {
    "name": "ipython",
    "version": 3
   },
   "file_extension": ".py",
   "mimetype": "text/x-python",
   "name": "python",
   "nbconvert_exporter": "python",
   "pygments_lexer": "ipython3",
   "version": "3.10.13"
  }
 },
 "nbformat": 4,
 "nbformat_minor": 5
}
