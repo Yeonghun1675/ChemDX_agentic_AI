{
 "cells": [
  {
   "cell_type": "code",
   "execution_count": 1,
   "id": "45fbf17a",
   "metadata": {},
   "outputs": [],
   "source": [
    "%load_ext autoreload\n",
    "%autoreload 2"
   ]
  },
  {
   "cell_type": "code",
   "execution_count": null,
   "id": "28758f21",
   "metadata": {},
   "outputs": [],
   "source": [
    "from chemdx_agent.main_agent import run_main_agent"
   ]
  },
  {
   "cell_type": "code",
   "execution_count": 4,
   "id": "8a374328",
   "metadata": {},
   "outputs": [
    {
     "name": "stderr",
     "output_type": "stream",
     "text": [
      "[Question] call sampleagent and run any function with any argument\n",
      "[SampleAgent] Message2Agent: Hello, can you run a function for me?\n",
      "[SampleAgent] Action: User asked to run a function, but did not specify which one or provide details.\n",
      "[SampleAgent] Result: Unable to execute a function without specific details. Please provide the function name and required arguments.\n",
      "[Final Answer] The sample agent was called, but it could not execute a function because no specific function name or arguments were provided.\n",
      "[Evaluation] The task was not completed successfully because the request lacked necessary details.\n"
     ]
    }
   ],
   "source": [
    "result = await run_main_agent(\"call sampleagent and run any function with any argument\")"
   ]
  },
  {
   "cell_type": "code",
   "execution_count": null,
   "id": "cb6c191e",
   "metadata": {},
   "outputs": [
    {
     "data": {
      "text/plain": [
       "FinalAnswer(task='Retrieve the refcode for IRMOF-1.', final_answer='The refcode for IRMOF-1 is FEJWOE.', evaluation='The task was successfully completed as the refcode for IRMOF-1 was accurately retrieved.')"
      ]
     },
     "metadata": {},
     "output_type": "display_data"
    }
   ],
   "source": [
    "result.output"
   ]
  }
 ],
 "metadata": {
  "kernelspec": {
   "display_name": "safety_sdl",
   "language": "python",
   "name": "python3"
  },
  "language_info": {
   "codemirror_mode": {
    "name": "ipython",
    "version": 3
   },
   "file_extension": ".py",
   "mimetype": "text/x-python",
   "name": "python",
   "nbconvert_exporter": "python",
   "pygments_lexer": "ipython3",
   "version": "3.10.13"
  }
 },
 "nbformat": 4,
 "nbformat_minor": 5
}
