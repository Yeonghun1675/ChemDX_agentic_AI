{
 "cells": [
  {
   "cell_type": "code",
   "execution_count": 36,
   "id": "45fbf17a",
   "metadata": {},
   "outputs": [
    {
     "name": "stdout",
     "output_type": "stream",
     "text": [
      "The autoreload extension is already loaded. To reload it, use:\n",
      "  %reload_ext autoreload\n"
     ]
    }
   ],
   "source": [
    "%load_ext autoreload\n",
    "%autoreload 2"
   ]
  },
  {
   "cell_type": "code",
   "execution_count": 37,
   "id": "28758f21",
   "metadata": {},
   "outputs": [],
   "source": [
    "from chemdx_agent.main_agent import run_main_agent"
   ]
  },
  {
   "cell_type": "code",
   "execution_count": 38,
   "id": "8a374328",
   "metadata": {},
   "outputs": [
    {
     "name": "stderr",
     "output_type": "stream",
     "text": [
      "[Question] what is the Ba2BiV3O11 emission max, decay time, and color\n",
      "[SampleAgent] Message2Agent: Ba2BiV3O11 emission max, decay time, and color\n",
      "[SampleAgent] Action: Research the emission maximum, decay time, and color of Ba2BiV3O11.\n",
      "[SampleAgent] Result: Ba2BiV3O11 is a luminescent material with an emission maximum typically in the visible range, often around 500-600 nm, which corresponds to a green to yellow color. The decay time for its luminescence can vary depending on the specific conditions and synthesis methods, but it is generally in the microsecond to millisecond range. The exact color and decay time can be influenced by factors such as doping and the presence of defects in the crystal structure.\n",
      "[Final Answer] Ba2BiV3O11 has an emission maximum typically in the visible range, around 500-600 nm, corresponding to a green to yellow color. The decay time for its luminescence is generally in the microsecond to millisecond range, depending on specific conditions and synthesis methods.\n",
      "[Evaluation] The final answer provides a general overview of the emission properties of Ba2BiV3O11, including its emission maximum, decay time, and color. However, it lacks specific numerical values and detailed experimental conditions, which might be necessary for precise applications.\n"
     ]
    }
   ],
   "source": [
    "result = await run_main_agent(\"what is the Ba2BiV3O11 emission max, decay time, and color\")"
   ]
  },
  {
   "cell_type": "code",
   "execution_count": 40,
   "id": "cb6c191e",
   "metadata": {},
   "outputs": [
    {
     "data": {
      "text/plain": [
       "FinalAnswer(task='Research the emission maximum, decay time, and color of Ba2BiV3O11.', final_answer='Ba2BiV3O11 has an emission maximum typically in the visible range, around 500-600 nm, corresponding to a green to yellow color. The decay time for its luminescence is generally in the microsecond to millisecond range, depending on specific conditions and synthesis methods.', evaluation='The final answer provides a general overview of the emission properties of Ba2BiV3O11, including its emission maximum, decay time, and color. However, it lacks specific numerical values and detailed experimental conditions, which might be necessary for precise applications.')"
      ]
     },
     "execution_count": 40,
     "metadata": {},
     "output_type": "execute_result"
    }
   ],
   "source": [
    "result"
   ]
  },
  {
   "cell_type": "code",
   "execution_count": null,
   "id": "0e76c4ef",
   "metadata": {},
   "outputs": [],
   "source": []
  }
 ],
 "metadata": {
  "kernelspec": {
   "display_name": "base",
   "language": "python",
   "name": "python3"
  },
  "language_info": {
   "codemirror_mode": {
    "name": "ipython",
    "version": 3
   },
   "file_extension": ".py",
   "mimetype": "text/x-python",
   "name": "python",
   "nbconvert_exporter": "python",
   "pygments_lexer": "ipython3",
   "version": "3.13.2"
  }
 },
 "nbformat": 4,
 "nbformat_minor": 5
}
