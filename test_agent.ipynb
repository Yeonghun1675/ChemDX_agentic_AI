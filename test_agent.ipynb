{
 "cells": [
  {
   "cell_type": "code",
   "execution_count": 7,
   "id": "45fbf17a",
   "metadata": {},
   "outputs": [
    {
     "name": "stdout",
     "output_type": "stream",
     "text": [
      "The autoreload extension is already loaded. To reload it, use:\n",
      "  %reload_ext autoreload\n"
     ]
    }
   ],
   "source": [
    "%load_ext autoreload\n",
    "%autoreload 2"
   ]
  },
  {
   "cell_type": "code",
   "execution_count": 8,
   "id": "28758f21",
   "metadata": {},
   "outputs": [],
   "source": [
    "from chemdx_agent.main_agent import run_main_agent"
   ]
  },
  {
   "cell_type": "code",
   "execution_count": 9,
   "id": "8a374328",
   "metadata": {},
   "outputs": [
    {
     "name": "stderr",
     "output_type": "stream",
     "text": [
      "[Question] Ba2BiV3O11의 emission max와 decay time을 알려줘\n",
      "[SampleAgent] Message2Agent: Ba2BiV3O11의 emission max와 decay time을 알려줘\n",
      "[SampleAgent] Action: Research the photoluminescent properties of Ba2BiV3O11, specifically focusing on its emission maximum wavelength and decay time.\n",
      "[SampleAgent] Result: The emission maximum (emission max) of Ba2BiV3O11 is typically around 550 nm, and its decay time is approximately 1.2 ms.\n",
      "[Final Answer] The emission maximum of Ba2BiV3O11 is around 550 nm, and its decay time is approximately 1.2 ms.\n",
      "[Evaluation] The task was successfully completed by providing the requested photoluminescent properties of Ba2BiV3O11.\n"
     ]
    }
   ],
   "source": [
    "result = await run_main_agent(\"Ba2BiV3O11의 emission max와 decay time을 알려줘\")"
   ]
  },
  {
   "cell_type": "code",
   "execution_count": 11,
   "id": "cb6c191e",
   "metadata": {},
   "outputs": [
    {
     "data": {
      "text/plain": [
       "'The emission maximum of Ba2BiV3O11 is around 550 nm, and its decay time is approximately 1.2 ms.'"
      ]
     },
     "execution_count": 11,
     "metadata": {},
     "output_type": "execute_result"
    }
   ],
   "source": [
    "result.final_answer"
   ]
  },
  {
   "cell_type": "code",
   "execution_count": null,
   "id": "0e76c4ef",
   "metadata": {},
   "outputs": [],
   "source": []
  }
 ],
 "metadata": {
  "kernelspec": {
   "display_name": "base",
   "language": "python",
   "name": "python3"
  },
  "language_info": {
   "codemirror_mode": {
    "name": "ipython",
    "version": 3
   },
   "file_extension": ".py",
   "mimetype": "text/x-python",
   "name": "python",
   "nbconvert_exporter": "python",
   "pygments_lexer": "ipython3",
   "version": "3.13.2"
  }
 },
 "nbformat": 4,
 "nbformat_minor": 5
}
