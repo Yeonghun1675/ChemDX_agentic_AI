{
 "cells": [
  {
   "cell_type": "code",
   "execution_count": 27,
   "id": "45fbf17a",
   "metadata": {},
   "outputs": [
    {
     "name": "stdout",
     "output_type": "stream",
     "text": [
      "The autoreload extension is already loaded. To reload it, use:\n",
      "  %reload_ext autoreload\n"
     ]
    }
   ],
   "source": [
    "%load_ext autoreload\n",
    "%autoreload 2"
   ]
  },
  {
   "cell_type": "code",
   "execution_count": 28,
   "id": "28758f21",
   "metadata": {},
   "outputs": [],
   "source": [
    "from chemdx_agent.main_agent import run_main_agent"
   ]
  },
  {
   "cell_type": "code",
   "execution_count": 30,
   "id": "8a374328",
   "metadata": {},
   "outputs": [
    {
     "name": "stderr",
     "output_type": "stream",
     "text": [
      "[Question] what is the Ba2BiV3O11 emission max, decay time, and color\n",
      "[SampleAgent] Message2Agent: Ba2BiV3O11 emission max, decay time, and color\n",
      "[SampleAgent] Action: Research the emission maximum, decay time, and color of Ba2BiV3O11.\n",
      "[SampleAgent] Result: Ba2BiV3O11 is a luminescent material with an emission maximum typically around 550 nm, which corresponds to a green color. The decay time for its luminescence is generally in the microsecond range, indicating a relatively fast emission process.\n",
      "[Final Answer] Ba2BiV3O11 has an emission maximum around 550 nm, which corresponds to a green color. The decay time for its luminescence is generally in the microsecond range.\n",
      "[Evaluation] The final answer provides a clear and concise description of the emission properties of Ba2BiV3O11, including the emission maximum, decay time, and color, which addresses the user's query effectively.\n"
     ]
    }
   ],
   "source": [
    "result = await run_main_agent(\"what is the Ba2BiV3O11 emission max, decay time, and color\")"
   ]
  },
  {
   "cell_type": "code",
   "execution_count": 31,
   "id": "cb6c191e",
   "metadata": {},
   "outputs": [
    {
     "data": {
      "text/plain": [
       "'Ba2BiV3O11 has an emission maximum around 550 nm, which corresponds to a green color. The decay time for its luminescence is generally in the microsecond range.'"
      ]
     },
     "execution_count": 31,
     "metadata": {},
     "output_type": "execute_result"
    }
   ],
   "source": [
    "result.final_answer"
   ]
  },
  {
   "cell_type": "code",
   "execution_count": null,
   "id": "0e76c4ef",
   "metadata": {},
   "outputs": [],
   "source": []
  }
 ],
 "metadata": {
  "kernelspec": {
   "display_name": "base",
   "language": "python",
   "name": "python3"
  },
  "language_info": {
   "codemirror_mode": {
    "name": "ipython",
    "version": 3
   },
   "file_extension": ".py",
   "mimetype": "text/x-python",
   "name": "python",
   "nbconvert_exporter": "python",
   "pygments_lexer": "ipython3",
   "version": "3.13.2"
  }
 },
 "nbformat": 4,
 "nbformat_minor": 5
}
