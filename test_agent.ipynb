{
 "cells": [
  {
   "cell_type": "code",
   "execution_count": 24,
   "id": "45fbf17a",
   "metadata": {},
   "outputs": [
    {
     "name": "stdout",
     "output_type": "stream",
     "text": [
      "The autoreload extension is already loaded. To reload it, use:\n",
      "  %reload_ext autoreload\n"
     ]
    }
   ],
   "source": [
    "%load_ext autoreload\n",
    "%autoreload 2"
   ]
  },
  {
   "cell_type": "code",
   "execution_count": null,
   "id": "28758f21",
   "metadata": {},
   "outputs": [],
   "source": [
    "from chemdx_agent.main_agent import run_main_agent"
   ]
  },
  {
   "cell_type": "code",
   "execution_count": 28,
   "id": "8a374328",
   "metadata": {},
   "outputs": [
    {
     "name": "stderr",
     "output_type": "stream",
     "text": [
      "[Question] ask about a thermoelectric material such as BiSb and its seeback coefficient value at 400K\n",
      "[SampleAgent] Message2Agent: Can you provide information on the thermoelectric material BiSb, specifically its Seebeck coefficient value at 400K?\n",
      "[SampleAgent] Action: Research the Seebeck coefficient value for the thermoelectric material BiSb at a temperature of 400K.\n",
      "[SampleAgent] Result: The Seebeck coefficient of BiSb (Bismuth-Antimony alloy) at 400K is approximately -100 µV/K. This value can vary slightly depending on the specific composition and preparation of the material.\n",
      "[Final Answer] The Seebeck coefficient of BiSb (Bismuth-Antimony alloy) at 400K is approximately -100 µV/K. This value can vary slightly depending on the specific composition and preparation of the material.\n",
      "[Evaluation] The task was successfully completed, providing the requested Seebeck coefficient value for BiSb at 400K.\n"
     ]
    }
   ],
   "source": [
    "result = await run_main_agent(\"ask about a thermoelectric material such as BiSb and its seeback coefficient value at 400K\")"
   ]
  },
  {
   "cell_type": "code",
   "execution_count": 29,
   "id": "cb6c191e",
   "metadata": {},
   "outputs": [
    {
     "data": {
      "text/plain": [
       "'The Seebeck coefficient of BiSb (Bismuth-Antimony alloy) at 400K is approximately -100 µV/K. This value can vary slightly depending on the specific composition and preparation of the material.'"
      ]
     },
     "execution_count": 29,
     "metadata": {},
     "output_type": "execute_result"
    }
   ],
   "source": [
    "result.final_answer"
   ]
  }
 ],
 "metadata": {
  "kernelspec": {
   "display_name": "venv",
   "language": "python",
   "name": "python3"
  },
  "language_info": {
   "codemirror_mode": {
    "name": "ipython",
    "version": 3
   },
   "file_extension": ".py",
   "mimetype": "text/x-python",
   "name": "python",
   "nbconvert_exporter": "python",
   "pygments_lexer": "ipython3",
   "version": "3.13.7"
  }
 },
 "nbformat": 4,
 "nbformat_minor": 5
}
