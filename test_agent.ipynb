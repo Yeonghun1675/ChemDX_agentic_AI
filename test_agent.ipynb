{
 "cells": [
  {
   "cell_type": "code",
   "execution_count": 3,
   "id": "45fbf17a",
   "metadata": {},
   "outputs": [
    {
     "name": "stdout",
     "output_type": "stream",
     "text": [
      "The autoreload extension is already loaded. To reload it, use:\n",
      "  %reload_ext autoreload\n"
     ]
    }
   ],
   "source": [
    "%load_ext autoreload\n",
    "%autoreload 2"
   ]
  },
  {
   "cell_type": "code",
   "execution_count": null,
   "id": "28758f21",
   "metadata": {},
   "outputs": [],
   "source": [
    "from chemdx_agent.main_agent import main_agent"
   ]
  },
  {
   "cell_type": "code",
   "execution_count": 7,
   "id": "c859d00b",
   "metadata": {},
   "outputs": [],
   "source": [
    "result = await main_agent.run(\"call general_tool and get refcode of IRMOF-1\")"
   ]
  },
  {
   "cell_type": "code",
   "execution_count": 8,
   "id": "1a0303d6",
   "metadata": {},
   "outputs": [
    {
     "data": {
      "text/plain": [
       "Result(task='Find the refcode of IRMOF-1 using a general tool.', action='Used the name_to_refcode function to look up the refcode for IRMOF-1.', result='The refcode for IRMOF-1 is FEJWOE.')"
      ]
     },
     "execution_count": 8,
     "metadata": {},
     "output_type": "execute_result"
    }
   ],
   "source": [
    "result.output"
   ]
  }
 ],
 "metadata": {
  "kernelspec": {
   "display_name": "safety_sdl",
   "language": "python",
   "name": "python3"
  },
  "language_info": {
   "codemirror_mode": {
    "name": "ipython",
    "version": 3
   },
   "file_extension": ".py",
   "mimetype": "text/x-python",
   "name": "python",
   "nbconvert_exporter": "python",
   "pygments_lexer": "ipython3",
   "version": "3.10.13"
  }
 },
 "nbformat": 4,
 "nbformat_minor": 5
}
