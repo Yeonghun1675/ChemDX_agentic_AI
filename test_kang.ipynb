{
 "cells": [
  {
   "cell_type": "code",
   "execution_count": 2,
   "id": "45fbf17a",
   "metadata": {},
   "outputs": [],
   "source": [
    "%load_ext autoreload\n",
    "%autoreload 2"
   ]
  },
  {
   "cell_type": "code",
   "execution_count": 3,
   "id": "28758f21",
   "metadata": {},
   "outputs": [],
   "source": [
    "from chemdx_agent.main_agent import run_main_agent"
   ]
  },
  {
   "cell_type": "code",
   "execution_count": 4,
   "id": "8a374328",
   "metadata": {},
   "outputs": [
    {
     "name": "stderr",
     "output_type": "stream",
     "text": [
      "[Question] call sampleagent and run any function with any argument\n",
      "[SampleAgent] Message2Agent: Hello, can you provide me with a summary of the latest advancements in AI as of 2023?\n",
      "[SampleAgent] Action: Summarize the key developments and breakthroughs in AI technology up to the year 2023.\n",
      "[SampleAgent] Result: As of 2023, AI has seen significant advancements in several areas. Large language models have become more sophisticated, with improved natural language understanding and generation capabilities. AI systems are now better at understanding context and generating human-like text. In the field of computer vision, AI has achieved higher accuracy in image and video recognition tasks. Reinforcement learning has been applied to more complex environments, leading to breakthroughs in autonomous systems and robotics. AI ethics and governance have also gained attention, with increased efforts to ensure AI systems are fair, transparent, and accountable. Additionally, AI is being integrated into various industries, enhancing productivity and innovation.\n",
      "[Final Answer] As of 2023, AI has seen significant advancements in several areas. Large language models have become more sophisticated, with improved natural language understanding and generation capabilities. AI systems are now better at understanding context and generating human-like text. In the field of computer vision, AI has achieved higher accuracy in image and video recognition tasks. Reinforcement learning has been applied to more complex environments, leading to breakthroughs in autonomous systems and robotics. AI ethics and governance have also gained attention, with increased efforts to ensure AI systems are fair, transparent, and accountable. Additionally, AI is being integrated into various industries, enhancing productivity and innovation.\n",
      "[Evaluation] The final answer provides a comprehensive overview of the key advancements in AI as of 2023, covering various aspects such as language models, computer vision, reinforcement learning, ethics, and industry integration. It effectively summarizes the state of AI technology and its implications.\n"
     ]
    }
   ],
   "source": [
    "result = await run_main_agent(\"call sampleagent and run any function with any argument\")"
   ]
  },
  {
   "cell_type": "code",
   "execution_count": null,
   "id": "cb6c191e",
   "metadata": {},
   "outputs": [
    {
     "data": {
      "text/plain": [
       "FinalAnswer(task='Retrieve the refcode for IRMOF-1.', final_answer='The refcode for IRMOF-1 is FEJWOE.', evaluation='The task was successfully completed as the refcode for IRMOF-1 was accurately retrieved.')"
      ]
     },
     "metadata": {},
     "output_type": "display_data"
    }
   ],
   "source": [
    "result.output"
   ]
  }
 ],
 "metadata": {
  "kernelspec": {
   "display_name": "safety_sdl",
   "language": "python",
   "name": "python3"
  },
  "language_info": {
   "codemirror_mode": {
    "name": "ipython",
    "version": 3
   },
   "file_extension": ".py",
   "mimetype": "text/x-python",
   "name": "python",
   "nbconvert_exporter": "python",
   "pygments_lexer": "ipython3",
   "version": "3.10.13"
  }
 },
 "nbformat": 4,
 "nbformat_minor": 5
}
