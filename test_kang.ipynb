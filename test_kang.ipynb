{
 "cells": [
  {
   "cell_type": "code",
   "execution_count": 1,
   "id": "45fbf17a",
   "metadata": {},
   "outputs": [],
   "source": [
    "%load_ext autoreload\n",
    "%autoreload 2"
   ]
  },
  {
   "cell_type": "code",
   "execution_count": 2,
   "id": "28758f21",
   "metadata": {},
   "outputs": [],
   "source": [
    "from chemdx_agent.main_agent import run_main_agent\n",
    "from chemdx_agent.schema import AgentState"
   ]
  },
  {
   "cell_type": "code",
   "execution_count": 5,
   "id": "8a374328",
   "metadata": {},
   "outputs": [
    {
     "name": "stderr",
     "output_type": "stream",
     "text": [
      "[Question] call sampleagent and run sample_function with any argument\n",
      "[SampleAgent] Message2Agent: Please run sample_function with any argument.\n",
      "[SampleAgent] Action: Called sample_function with args_1 as 'example_argument' and args_2 as ['arg1', 'arg2', 'arg3'].\n",
      "[Tool-sample_function] Tool input: {\"args_1\":\"example_argument\",\"args_2\":[\"arg1\",\"arg2\",\"arg3\"]}\n",
      "[Tool-sample_function] Tool result: FEJWOE\n",
      "[SampleAgent] Result: FEJWOE\n",
      "[Final Answer] The sample_function was called with 'example_argument' and ['arg1', 'arg2', 'arg3'], resulting in 'FEJWOE'.\n",
      "[Evaluation] The task was executed successfully as the function was called with the specified arguments and returned a result.\n"
     ]
    }
   ],
   "source": [
    "state = AgentState()\n",
    "\n",
    "result = await run_main_agent(\"call sampleagent and run sample_function with any argument\", deps=state)"
   ]
  },
  {
   "cell_type": "code",
   "execution_count": 34,
   "id": "a0686769",
   "metadata": {},
   "outputs": [
    {
     "data": {
      "text/plain": [
       "([ToolCallPart(tool_name='call_sample_agent', args='{\"message2agent\":\"Hello, can you run a sample function for me?\"}', tool_call_id='call_yTpDi8rPm080ieldaEifcjtE')],\n",
       " [ToolReturnPart(tool_name='call_sample_agent', content=Result(task='description of sample', action=\"Described the current task of the agent as 'description of sample'.\", result='The task is to describe the current role of the agent, which is to provide a description of a sample.'), tool_call_id='call_yTpDi8rPm080ieldaEifcjtE', timestamp=datetime.datetime(2025, 8, 20, 6, 22, 35, 722778, tzinfo=datetime.timezone.utc))])"
      ]
     },
     "execution_count": 34,
     "metadata": {},
     "output_type": "execute_result"
    }
   ],
   "source": [
    "result.all_messages()[1].parts, result.all_messages()[2].parts"
   ]
  },
  {
   "cell_type": "code",
   "execution_count": 40,
   "id": "cf534a92",
   "metadata": {},
   "outputs": [],
   "source": [
    "from pydantic_ai.messages import ToolCallPart, ToolReturnPart"
   ]
  },
  {
   "cell_type": "code",
   "execution_count": 48,
   "id": "b95394e1",
   "metadata": {},
   "outputs": [
    {
     "data": {
      "text/plain": [
       "['[Tool-call_sample_agent] Tool input: {\"message2agent\":\"Hello, can you run a sample function for me?\"}',\n",
       " '[Tool-call_sample_agent] Tool result: task=\\'description of sample\\' action=\"Described the current task of the agent as \\'description of sample\\'.\" result=\\'The task is to describe the current role of the agent, which is to provide a description of a sample.\\'',\n",
       " '[Tool-final_result] Tool result: Final result processed.']"
      ]
     },
     "execution_count": 48,
     "metadata": {},
     "output_type": "execute_result"
    }
   ],
   "source": [
    "def make_tool_message(result):\n",
    "    list_log = []\n",
    "    for message in result.all_messages():\n",
    "        parts = message.parts\n",
    "        for part in parts:\n",
    "            if isinstance(part, ToolCallPart):\n",
    "                tool_name = part.tool_name\n",
    "                if tool_name == \"final_result\":\n",
    "                    continue\n",
    "                args = part.args\n",
    "                log = f\"[Tool-{tool_name}] Tool input: {args}\"\n",
    "                list_log.append(log)\n",
    "            if isinstance(part, ToolReturnPart):\n",
    "                tool_name = part.tool_name\n",
    "                if tool_name == \"final_agent\":\n",
    "                    continue\n",
    "                content = part.content\n",
    "                log = f\"[Tool-{tool_name}] Tool result: {content}\"\n",
    "                list_log.append(log)\n",
    "    return list_log\n",
    "\n",
    "make_tool_message(result)\n",
    "\n",
    "        "
   ]
  },
  {
   "cell_type": "code",
   "execution_count": null,
   "id": "72d4458f",
   "metadata": {},
   "outputs": [],
   "source": []
  },
  {
   "cell_type": "code",
   "execution_count": null,
   "id": "2ffaa5d9",
   "metadata": {},
   "outputs": [],
   "source": [
    "[Tool-] Tool input: "
   ]
  },
  {
   "cell_type": "code",
   "execution_count": null,
   "id": "2e659043",
   "metadata": {},
   "outputs": [
    {
     "ename": "ImportError",
     "evalue": "cannot import name 'ToolCallPart' from 'pydantic_ai' (/opt/homebrew/Caskroom/miniconda/base/envs/safety_sdl/lib/python3.10/site-packages/pydantic_ai/__init__.py)",
     "output_type": "error",
     "traceback": [
      "\u001b[0;31m---------------------------------------------------------------------------\u001b[0m",
      "\u001b[0;31mImportError\u001b[0m                               Traceback (most recent call last)",
      "Cell \u001b[0;32mIn[32], line 1\u001b[0m\n\u001b[0;32m----> 1\u001b[0m \u001b[38;5;28;01mfrom\u001b[39;00m\u001b[38;5;250m \u001b[39m\u001b[38;5;21;01mpydantic_ai\u001b[39;00m\u001b[38;5;250m \u001b[39m\u001b[38;5;28;01mimport\u001b[39;00m ToolCallPart\n",
      "\u001b[0;31mImportError\u001b[0m: cannot import name 'ToolCallPart' from 'pydantic_ai' (/opt/homebrew/Caskroom/miniconda/base/envs/safety_sdl/lib/python3.10/site-packages/pydantic_ai/__init__.py)"
     ]
    }
   ],
   "source": []
  },
  {
   "cell_type": "code",
   "execution_count": null,
   "id": "4573945b",
   "metadata": {},
   "outputs": [],
   "source": []
  },
  {
   "cell_type": "code",
   "execution_count": null,
   "id": "db0ff983",
   "metadata": {},
   "outputs": [],
   "source": []
  },
  {
   "cell_type": "code",
   "execution_count": 14,
   "id": "8120ec73",
   "metadata": {},
   "outputs": [
    {
     "data": {
      "text/plain": [
       "ModelRequest(parts=[SystemPromptPart(content='You are the main agent of the ChemDX database. You can use available tools or request help from specialized sub-agents that perform specific tasks. You must only carry out the role assigned to you. If a request is outside your capabilities, you should ask for support from the appropriate agent instead of trying to handle it yourself.', timestamp=datetime.datetime(2025, 8, 20, 1, 42, 20, 752398, tzinfo=datetime.timezone.utc)), UserPromptPart(content='call sampleagent and run any function with any argument', timestamp=datetime.datetime(2025, 8, 20, 1, 42, 20, 752400, tzinfo=datetime.timezone.utc))])"
      ]
     },
     "execution_count": 14,
     "metadata": {},
     "output_type": "execute_result"
    }
   ],
   "source": [
    "result.all_messages()[0]"
   ]
  },
  {
   "cell_type": "code",
   "execution_count": 29,
   "id": "353bd910",
   "metadata": {},
   "outputs": [
    {
     "data": {
      "text/plain": [
       "ToolCallPart(tool_name='call_sample_agent', args='{\"message2agent\":\"Hello, can you provide information on the chemical properties of water?\"}', tool_call_id='call_Z5whP2tMxoiq8mF2BoNra8ig')"
      ]
     },
     "execution_count": 29,
     "metadata": {},
     "output_type": "execute_result"
    }
   ],
   "source": [
    "result.all_messages()[1].parts[0]"
   ]
  },
  {
   "cell_type": "code",
   "execution_count": 30,
   "id": "0d3a686d",
   "metadata": {},
   "outputs": [
    {
     "data": {
      "text/plain": [
       "ToolReturnPart(tool_name='call_sample_agent', content=Result(task='description of sample', action='The task was to describe the current role of the agent, which is to provide a description of a sample.', result=\"The agent's current role is to describe a sample, which involves explaining the characteristics or details of a given example or instance.\"), tool_call_id='call_Z5whP2tMxoiq8mF2BoNra8ig', timestamp=datetime.datetime(2025, 8, 20, 1, 42, 25, 366917, tzinfo=datetime.timezone.utc))"
      ]
     },
     "execution_count": 30,
     "metadata": {},
     "output_type": "execute_result"
    }
   ],
   "source": [
    "result.all_messages()[2].parts[0]"
   ]
  },
  {
   "cell_type": "code",
   "execution_count": 9,
   "id": "cb6c191e",
   "metadata": {},
   "outputs": [
    {
     "data": {
      "text/plain": [
       "AgentState(main_task='call sampleagent and run any function with any argument', working_memory=['[SampleAgent] Hello, can you run a function for me?'], current_step=1, lock=<unlocked _thread.lock object at 0x110571880>)"
      ]
     },
     "execution_count": 9,
     "metadata": {},
     "output_type": "execute_result"
    }
   ],
   "source": [
    "state"
   ]
  },
  {
   "cell_type": "code",
   "execution_count": 5,
   "id": "0c1f2e3e",
   "metadata": {},
   "outputs": [],
   "source": [
    "import re"
   ]
  },
  {
   "cell_type": "code",
   "execution_count": 51,
   "id": "51add1d2",
   "metadata": {},
   "outputs": [
    {
     "data": {
      "text/plain": [
       "('Tool-call_sample_agent',\n",
       " ' Tool input',\n",
       " ' {\"message2agent\":\"Hello, can you run a sample function for me?\"}')"
      ]
     },
     "execution_count": 51,
     "metadata": {},
     "output_type": "execute_result"
    }
   ],
   "source": [
    "line = '[Tool-call_sample_agent] Tool input: {\"message2agent\":\"Hello, can you run a sample function for me?\"}'\n",
    "re.match(r\"^\\[(.+)\\](.+?):(.+)\", line).groups()"
   ]
  }
 ],
 "metadata": {
  "kernelspec": {
   "display_name": "safety_sdl",
   "language": "python",
   "name": "python3"
  },
  "language_info": {
   "codemirror_mode": {
    "name": "ipython",
    "version": 3
   },
   "file_extension": ".py",
   "mimetype": "text/x-python",
   "name": "python",
   "nbconvert_exporter": "python",
   "pygments_lexer": "ipython3",
   "version": "3.10.13"
  }
 },
 "nbformat": 4,
 "nbformat_minor": 5
}
