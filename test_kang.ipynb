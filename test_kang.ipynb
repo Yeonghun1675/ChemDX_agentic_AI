{
 "cells": [
  {
   "cell_type": "code",
   "execution_count": 1,
   "id": "45fbf17a",
   "metadata": {},
   "outputs": [],
   "source": [
    "%load_ext autoreload\n",
    "%autoreload 2"
   ]
  },
  {
   "cell_type": "code",
   "execution_count": 16,
   "id": "28758f21",
   "metadata": {},
   "outputs": [],
   "source": [
    "from chemdx_agent.main_agent import run_main_agent\n",
    "from chemdx_agent.schema import AgentState\n",
    "from chemdx_agent.utils import split_line_to_agent_and_message"
   ]
  },
  {
   "cell_type": "code",
   "execution_count": 9,
   "id": "8a374328",
   "metadata": {},
   "outputs": [
    {
     "name": "stderr",
     "output_type": "stream",
     "text": [
      "[Question] call sampleagent and run sample_function with any argument\n",
      "[SampleAgent] Message2Agent: Please run the sample_function with any argument.\n",
      "[SampleAgent] Action: Called the sample_function with args_1 as 'example_argument_1' and args_2 as ['example_argument_2a', 'example_argument_2b'].\n",
      "[Tool-sample_function] Tool input: {\"args_1\":\"example_argument_1\",\"args_2\":[\"example_argument_2a\",\"example_argument_2b\"]}\n",
      "[Tool-sample_function] Tool result: FEJWOE\n",
      "[SampleAgent] Result: FEJWOE\n",
      "[Final Answer] The sample_function was called with 'example_argument_1' and ['example_argument_2a', 'example_argument_2b'] and returned 'FEJWOE'.\n",
      "[Evaluation] The task was executed successfully as the sample_function was called with the specified arguments and returned a result.\n"
     ]
    }
   ],
   "source": [
    "state = AgentState()\n",
    "\n",
    "result = await run_main_agent(\"call sampleagent and run sample_function with any argument\", deps=state)"
   ]
  },
  {
   "cell_type": "code",
   "execution_count": 22,
   "id": "3e25fe3f",
   "metadata": {},
   "outputs": [
    {
     "data": {
      "text/plain": [
       "False"
      ]
     },
     "execution_count": 22,
     "metadata": {},
     "output_type": "execute_result"
    }
   ],
   "source": [
    "\"ㅤ\" == \" \""
   ]
  },
  {
   "cell_type": "code",
   "execution_count": 10,
   "id": "163b40e2",
   "metadata": {},
   "outputs": [
    {
     "data": {
      "text/plain": [
       "['[SampleAgent] Please run the sample_function with any argument.']"
      ]
     },
     "execution_count": 10,
     "metadata": {},
     "output_type": "execute_result"
    }
   ],
   "source": [
    "state.working_memory"
   ]
  },
  {
   "cell_type": "code",
   "execution_count": 13,
   "id": "64557d55",
   "metadata": {},
   "outputs": [],
   "source": [
    "with open(\"log.txt\", \"r\") as f:\n",
    "    lines = [line.strip() for line in f]"
   ]
  },
  {
   "cell_type": "code",
   "execution_count": 18,
   "id": "c1d57865",
   "metadata": {},
   "outputs": [],
   "source": [
    "a = [split_line_to_agent_and_message(line) for line in lines]"
   ]
  },
  {
   "cell_type": "code",
   "execution_count": 20,
   "id": "075a8c68",
   "metadata": {},
   "outputs": [],
   "source": [
    "agent, message_type, message = zip(*a)"
   ]
  },
  {
   "cell_type": "code",
   "execution_count": 21,
   "id": "7a27b71f",
   "metadata": {},
   "outputs": [
    {
     "data": {
      "text/plain": [
       "('MainAgent',\n",
       " 'SampleAgent',\n",
       " 'SampleAgent',\n",
       " 'Tool-sample_function',\n",
       " 'Tool-sample_function',\n",
       " 'SampleAgent',\n",
       " 'MainAgent',\n",
       " 'MainAgent')"
      ]
     },
     "execution_count": 21,
     "metadata": {},
     "output_type": "execute_result"
    }
   ],
   "source": [
    "agent"
   ]
  }
 ],
 "metadata": {
  "kernelspec": {
   "display_name": "safety_sdl",
   "language": "python",
   "name": "python3"
  },
  "language_info": {
   "codemirror_mode": {
    "name": "ipython",
    "version": 3
   },
   "file_extension": ".py",
   "mimetype": "text/x-python",
   "name": "python",
   "nbconvert_exporter": "python",
   "pygments_lexer": "ipython3",
   "version": "3.10.13"
  }
 },
 "nbformat": 4,
 "nbformat_minor": 5
}
