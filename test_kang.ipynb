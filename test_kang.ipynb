{
 "cells": [
  {
   "cell_type": "code",
   "execution_count": 1,
   "id": "45fbf17a",
   "metadata": {},
   "outputs": [],
   "source": [
    "%load_ext autoreload\n",
    "%autoreload 2"
   ]
  },
  {
   "cell_type": "code",
   "execution_count": 2,
   "id": "28758f21",
   "metadata": {},
   "outputs": [
    {
     "name": "stderr",
     "output_type": "stream",
     "text": [
      "/opt/homebrew/Caskroom/miniconda/base/envs/safety_sdl/lib/python3.10/site-packages/tqdm/auto.py:21: TqdmWarning: IProgress not found. Please update jupyter and ipywidgets. See https://ipywidgets.readthedocs.io/en/stable/user_install.html\n",
      "  from .autonotebook import tqdm as notebook_tqdm\n"
     ]
    }
   ],
   "source": [
    "from chemdx_agent.main_agent import run_main_agent\n",
    "from chemdx_agent.schema import AgentState\n",
    "from chemdx_agent.utils import split_line_to_agent_and_message"
   ]
  },
  {
   "cell_type": "code",
   "execution_count": 3,
   "id": "547bb148",
   "metadata": {},
   "outputs": [],
   "source": [
    "file = \"/Users/yeonghun/VisualStudio/krict_hackathon/log_park.txt\""
   ]
  },
  {
   "cell_type": "code",
   "execution_count": 4,
   "id": "8359aaa1",
   "metadata": {},
   "outputs": [],
   "source": [
    "with open(file, 'r') as f:\n",
    "    data = f.read()"
   ]
  },
  {
   "cell_type": "code",
   "execution_count": 8,
   "id": "51a6e536",
   "metadata": {},
   "outputs": [],
   "source": [
    "new_data = [line.strip() for line in data.split(\"ㅤ\")[:-1]]"
   ]
  },
  {
   "cell_type": "code",
   "execution_count": 11,
   "id": "36e58dea",
   "metadata": {},
   "outputs": [
    {
     "data": {
      "text/plain": [
       "['[Question] Please recommend blue phosphor candidates that meet the conditions of Emission max ∈ [360, 420], Decay time ≤ 100, and QE ≥ 80. Please tell me the host, 1st dopant, 1st doping concentration, Emission max. (nm), Decay time (ns), and quantum efficiency (%) of the recommended materials. Next, please summarize the Eu co-doping concentration change in the Ba2Bi0.95V3O11 family of emission max and color change. Finally, please summarize the correlation/trend of Emission vs color.',\n",
       " '[PhosphorDataResearchAgent] Message2Agent: Please recommend blue phosphor candidates that meet the conditions of Emission max ∈ [360, 420], Decay time ≤ 100, and QE ≥ 80. Provide details on host, 1st dopant, 1st doping concentration, Emission max. (nm), Decay time (ns), and quantum efficiency (%).',\n",
       " '[RecommendAgent] Message2Agent: Recommend blue phosphor candidates with Emission max in the range of 360 to 420 nm, Decay time ≤ 100 ns, and Quantum Efficiency ≥ 80%. Provide details on host, 1st dopant, 1st doping concentration, Emission max (nm), Decay time (ns), and quantum efficiency (%).',\n",
       " '[RecommendAgent] Action: Recommended blue phosphor candidates with Emission max in the range of 360 to 420 nm, Decay time ≤ 100 ns, and Quantum Efficiency ≥ 80%.',\n",
       " '[Tool-recommend_by_emission_decay_qe] Tool input: {\"emission_min_nm\":360,\"emission_max_nm\":420,\"decay_max_ns\":100,\"qe_min_percent\":80,\"top_k\":5}\\n[Tool-recommend_by_emission_decay_qe] Tool result: Recommendations (Emission 360.0-420.0 nm, Decay <= 100.0 ns, QE >= 80.0%):\\n1. Host: KSrGdP2O8 | Dopant: Ce | Conc: 0.040 | Emission: 370.0 nm | Decay: 63.3 ns | IQE=96.0%\\n2. Host: KSrGdP2O8 | Dopant: Ce | Conc: 0.040 | Emission: 370.0 nm | Decay: 47.3 ns | IQE=90.0%\\n3. Host: KNaCa2P2O8Na0.04 | Dopant: Ce | Conc: 0.040 | Emission: 367.0 nm | Decay: 46.9 ns | IQE=89.0%\\n4. Host: Ba2Y1.8P2O12Si | Dopant: Ce | Conc: 0.140 | Emission: 409.0 nm | Decay: 42.3 ns | IQE=84.3%\\n5. Host: RbCaGdP2O8 | Dopant: Ce | Conc: 0.100 | Emission: 408.0 nm | Decay: 45.1 ns | IQE=82.8%\\n[RecommendAgent] Result: 1. Host: KSrGdP2O8, Dopant: Ce, Conc: 0.040, Emission: 370.0 nm, Decay: 63.3 ns, IQE=96.0%\\n2. Host: KSrGdP2O8, Dopant: Ce, Conc: 0.040, Emission: 370.0 nm, Decay: 47.3 ns, IQE=90.0%\\n3. Host: KNaCa2P2O8Na0.04, Dopant: Ce, Conc: 0.040, Emission: 367.0 nm, Decay: 46.9 ns, IQE=89.0%\\n4. Host: Ba2Y1.8P2O12Si, Dopant: Ce, Conc: 0.140, Emission: 409.0 nm, Decay: 42.3 ns, IQE=84.3%\\n5. Host: RbCaGdP2O8, Dopant: Ce, Conc: 0.100, Emission: 408.0 nm, Decay: 45.1 ns, IQE=82.8%',\n",
       " '[PhosphorDataResearchAgent] Action: Recommended blue phosphor candidates with Emission max in the range of 360 to 420 nm, Decay time ≤ 100 ns, and Quantum Efficiency ≥ 80%.',\n",
       " '[PhosphorDataResearchAgent] Result: 1. Host: KSrGdP2O8, Dopant: Ce, Conc: 0.040, Emission: 370.0 nm, Decay: 63.3 ns, IQE=96.0%\\n2. Host: KSrGdP2O8, Dopant: Ce, Conc: 0.040, Emission: 370.0 nm, Decay: 47.3 ns, IQE=90.0%\\n3. Host: KNaCa2P2O8Na0.04, Dopant: Ce, Conc: 0.040, Emission: 367.0 nm, Decay: 46.9 ns, IQE=89.0%\\n4. Host: Ba2Y1.8P2O12Si, Dopant: Ce, Conc: 0.140, Emission: 409.0 nm, Decay: 42.3 ns, IQE=84.3%\\n5. Host: RbCaGdP2O8, Dopant: Ce, Conc: 0.100, Emission: 408.0 nm, Decay: 45.1 ns, IQE=82.8%',\n",
       " '[TrendAgent] Message2Agent: Summarize the Eu co-doping concentration change in the Ba2Bi0.95V3O11 family and its effect on emission max and color change.',\n",
       " '[PhosphorTrendAgent] Message2Agent: Summarize the Eu co-doping concentration change in the Ba2Bi0.95V3O11 family and its effect on emission max and color change.',\n",
       " \"[PhosphorTrendAgent] Action: Attempted to filter the dataset for entries with Host 'Ba2Bi0.95V3O11' and 1st dopant 'Eu' to analyze the trend of 1st doping concentration on Emission max and color change.\",\n",
       " '[Tool-analyze_trend] Tool input: {\"x_feature\":\"1st doping concentration\",\"y_feature\":\"Emission max. (nm)\",\"filters\":\"Host = \\'Ba2Bi0.95V3O11\\' AND 1st dopant = \\'Eu\\'\"}\\n[Tool-analyze_trend] Tool result: No rows left after applying filters\\n[PhosphorTrendAgent] Result: No data available for the specified host and dopant combination in the dataset. Therefore, no trend analysis could be performed on the Eu co-doping concentration change in the Ba2Bi0.95V3O11 family.',\n",
       " \"[TrendAgent] Action: Attempted to filter the dataset for entries with Host 'Ba2Bi0.95V3O11' and 1st dopant 'Eu' to analyze the trend of 1st doping concentration on Emission max and color change.\",\n",
       " '[TrendAgent] Result: No data available for the specified host and dopant combination in the dataset. Therefore, no trend analysis could be performed on the Eu co-doping concentration change in the Ba2Bi0.95V3O11 family.',\n",
       " '[TrendAgent] Message2Agent: Summarize the correlation/trend of Emission vs color in phosphor materials.',\n",
       " '[PhosphorTrendAgent] Message2Agent: Summarize the correlation/trend of Emission vs color in phosphor materials.',\n",
       " '[PhosphorTrendAgent] Action: Attempted to load and analyze the phosphor database to identify trends between emission maxima and color coordinates (CIE x/y).',\n",
       " '[Tool-analyze_trend] Tool input: {\"x_feature\":\"Emission max. (nm)\",\"y_feature\":\"CIE x/y\",\"file_path\":\"Inorganic_Phosphor_Optical_Properties_DB.csv\"}\\n[Tool-analyze_trend] Tool result: Error: Not found: \\'Inorganic_Phosphor_Optical_Properties_DB.csv\\'\\n[Tool-load_phosphor_db] Tool input: {\"file_path\":\"Inorganic_Phosphor_Optical_Properties_DB.csv\"}\\n[Tool-load_phosphor_db] Tool result: Error: Not found: \\'Inorganic_Phosphor_Optical_Properties_DB.csv\\'\\n[PhosphorTrendAgent] Result: The database \\'Inorganic_Phosphor_Optical_Properties_DB.csv\\' could not be found, preventing analysis of the correlation between emission maxima and color coordinates.',\n",
       " '[TrendAgent] Action: Attempted to load and analyze the phosphor database to identify trends between emission maxima and color coordinates (CIE x/y).',\n",
       " \"[TrendAgent] Result: The database 'Inorganic_Phosphor_Optical_Properties_DB.csv' could not be found, preventing analysis of the correlation between emission maxima and color coordinates.\",\n",
       " '[Final Answer] 1. Recommended Blue Phosphor Candidates:\\n   - Host: KSrGdP2O8, Dopant: Ce, Conc: 0.040, Emission: 370.0 nm, Decay: 63.3 ns, IQE=96.0%\\n   - Host: KSrGdP2O8, Dopant: Ce, Conc: 0.040, Emission: 370.0 nm, Decay: 47.3 ns, IQE=90.0%\\n   - Host: KNaCa2P2O8Na0.04, Dopant: Ce, Conc: 0.040, Emission: 367.0 nm, Decay: 46.9 ns, IQE=89.0%\\n   - Host: Ba2Y1.8P2O12Si, Dopant: Ce, Conc: 0.140, Emission: 409.0 nm, Decay: 42.3 ns, IQE=84.3%\\n   - Host: RbCaGdP2O8, Dopant: Ce, Conc: 0.100, Emission: 408.0 nm, Decay: 45.1 ns, IQE=82.8%\\n\\n2. Eu Co-doping in Ba2Bi0.95V3O11:\\n   - No data available for the specified host and dopant combination, so no trend analysis could be performed.\\n\\n3. Emission vs Color Trend:\\n   - The database required for analyzing the correlation between emission maxima and color coordinates was not found, preventing the analysis.',\n",
       " '[Evaluation] The task was partially completed. Blue phosphor candidates were successfully recommended, but the analysis of Eu co-doping in Ba2Bi0.95V3O11 and the Emission vs color trend could not be performed due to data unavailability.']"
      ]
     },
     "execution_count": 11,
     "metadata": {},
     "output_type": "execute_result"
    }
   ],
   "source": [
    "new_data"
   ]
  },
  {
   "cell_type": "code",
   "execution_count": 10,
   "id": "62e8be15",
   "metadata": {},
   "outputs": [
    {
     "name": "stdout",
     "output_type": "stream",
     "text": [
      "agent:  MainAgent\n",
      "message_type:  Question\n",
      "message:  Please recommend blue phosphor candidates that meet the conditions of Emission max ∈ [360, 420], Decay time ≤ 100, and QE ≥ 80. Please tell me the host, 1st dopant, 1st doping concentration, Emission max. (nm), Decay time (ns), and quantum efficiency (%) of the recommended materials. Next, please summarize the Eu co-doping concentration change in the Ba2Bi0.95V3O11 family of emission max and color change. Finally, please summarize the correlation/trend of Emission vs color.\n",
      "\n",
      "\n",
      "\n",
      "agent:  PhosphorDataResearchAgent\n",
      "message_type:  Message2Agent\n",
      "message:  Please recommend blue phosphor candidates that meet the conditions of Emission max ∈ [360, 420], Decay time ≤ 100, and QE ≥ 80. Provide details on host, 1st dopant, 1st doping concentration, Emission max. (nm), Decay time (ns), and quantum efficiency (%).\n",
      "\n",
      "\n",
      "\n",
      "agent:  RecommendAgent\n",
      "message_type:  Message2Agent\n",
      "message:  Recommend blue phosphor candidates with Emission max in the range of 360 to 420 nm, Decay time ≤ 100 ns, and Quantum Efficiency ≥ 80%. Provide details on host, 1st dopant, 1st doping concentration, Emission max (nm), Decay time (ns), and quantum efficiency (%).\n",
      "\n",
      "\n",
      "\n",
      "agent:  RecommendAgent\n",
      "message_type:  Action\n",
      "message:  Recommended blue phosphor candidates with Emission max in the range of 360 to 420 nm, Decay time ≤ 100 ns, and Quantum Efficiency ≥ 80%.\n",
      "\n",
      "\n",
      "\n",
      "agent:  Tool-recommend_by_emission_decay_qe\n",
      "message_type:  Tool input\n",
      "message:  {\"emission_min_nm\":360,\"emission_max_nm\":420,\"decay_max_ns\":100,\"qe_min_percent\":80,\"top_k\":5}\n",
      "\n",
      "\n",
      "\n",
      "agent:  PhosphorDataResearchAgent\n",
      "message_type:  Action\n",
      "message:  Recommended blue phosphor candidates with Emission max in the range of 360 to 420 nm, Decay time ≤ 100 ns, and Quantum Efficiency ≥ 80%.\n",
      "\n",
      "\n",
      "\n",
      "agent:  PhosphorDataResearchAgent\n",
      "message_type:  Result\n",
      "message:  1. Host: KSrGdP2O8, Dopant: Ce, Conc: 0.040, Emission: 370.0 nm, Decay: 63.3 ns, IQE=96.0%\n",
      "\n",
      "\n",
      "\n",
      "agent:  TrendAgent\n",
      "message_type:  Message2Agent\n",
      "message:  Summarize the Eu co-doping concentration change in the Ba2Bi0.95V3O11 family and its effect on emission max and color change.\n",
      "\n",
      "\n",
      "\n",
      "agent:  PhosphorTrendAgent\n",
      "message_type:  Message2Agent\n",
      "message:  Summarize the Eu co-doping concentration change in the Ba2Bi0.95V3O11 family and its effect on emission max and color change.\n",
      "\n",
      "\n",
      "\n",
      "agent:  PhosphorTrendAgent\n",
      "message_type:  Action\n",
      "message:  Attempted to filter the dataset for entries with Host 'Ba2Bi0.95V3O11' and 1st dopant 'Eu' to analyze the trend of 1st doping concentration on Emission max and color change.\n",
      "\n",
      "\n",
      "\n",
      "agent:  Tool-analyze_trend\n",
      "message_type:  Tool input\n",
      "message:  {\"x_feature\":\"1st doping concentration\",\"y_feature\":\"Emission max. (nm)\",\"filters\":\"Host = 'Ba2Bi0.95V3O11' AND 1st dopant = 'Eu'\"}\n",
      "\n",
      "\n",
      "\n",
      "agent:  TrendAgent\n",
      "message_type:  Action\n",
      "message:  Attempted to filter the dataset for entries with Host 'Ba2Bi0.95V3O11' and 1st dopant 'Eu' to analyze the trend of 1st doping concentration on Emission max and color change.\n",
      "\n",
      "\n",
      "\n",
      "agent:  TrendAgent\n",
      "message_type:  Result\n",
      "message:  No data available for the specified host and dopant combination in the dataset. Therefore, no trend analysis could be performed on the Eu co-doping concentration change in the Ba2Bi0.95V3O11 family.\n",
      "\n",
      "\n",
      "\n",
      "agent:  TrendAgent\n",
      "message_type:  Message2Agent\n",
      "message:  Summarize the correlation/trend of Emission vs color in phosphor materials.\n",
      "\n",
      "\n",
      "\n",
      "agent:  PhosphorTrendAgent\n",
      "message_type:  Message2Agent\n",
      "message:  Summarize the correlation/trend of Emission vs color in phosphor materials.\n",
      "\n",
      "\n",
      "\n",
      "agent:  PhosphorTrendAgent\n",
      "message_type:  Action\n",
      "message:  Attempted to load and analyze the phosphor database to identify trends between emission maxima and color coordinates (CIE x/y).\n",
      "\n",
      "\n",
      "\n",
      "agent:  Tool-analyze_trend\n",
      "message_type:  Tool input\n",
      "message:  {\"x_feature\":\"Emission max. (nm)\",\"y_feature\":\"CIE x/y\",\"file_path\":\"Inorganic_Phosphor_Optical_Properties_DB.csv\"}\n",
      "\n",
      "\n",
      "\n",
      "agent:  TrendAgent\n",
      "message_type:  Action\n",
      "message:  Attempted to load and analyze the phosphor database to identify trends between emission maxima and color coordinates (CIE x/y).\n",
      "\n",
      "\n",
      "\n",
      "agent:  TrendAgent\n",
      "message_type:  Result\n",
      "message:  The database 'Inorganic_Phosphor_Optical_Properties_DB.csv' could not be found, preventing analysis of the correlation between emission maxima and color coordinates.\n",
      "\n",
      "\n",
      "\n",
      "agent:  MainAgent\n",
      "message_type:  Final Answer\n",
      "message:  1. Recommended Blue Phosphor Candidates:\n",
      "   - Host: KSrGdP2O8, Dopant: Ce, Conc: 0.040, Emission: 370.0 nm, Decay: 63.3 ns, IQE=96.0%\n",
      "   - Host: KSrGdP2O8, Dopant: Ce, Conc: 0.040, Emission: 370.0 nm, Decay: 47.3 ns, IQE=90.0%\n",
      "   - Host: KNaCa2P2O8Na0.04, Dopant: Ce, Conc: 0.040, Emission: 367.0 nm, Decay: 46.9 ns, IQE=89.0%\n",
      "   - Host: Ba2Y1.8P2O12Si, Dopant: Ce, Conc: 0.140, Emission: 409.0 nm, Decay: 42.3 ns, IQE=84.3%\n",
      "   - Host: RbCaGdP2O8, Dopant: Ce, Conc: 0.100, Emission: 408.0 nm, Decay: 45.1 ns, IQE=82.8%\n",
      "\n",
      "2. Eu Co-doping in Ba2Bi0.95V3O11:\n",
      "   - No data available for the specified host and dopant combination, so no trend analysis could be performed.\n",
      "\n",
      "3. Emission vs Color Trend:\n",
      "   - The database required for analyzing the correlation between emission maxima and color coordinates was not found, preventing the analysis.\n",
      "\n",
      "\n",
      "\n",
      "agent:  MainAgent\n",
      "message_type:  Evaluation\n",
      "message:  The task was partially completed. Blue phosphor candidates were successfully recommended, but the analysis of Eu co-doping in Ba2Bi0.95V3O11 and the Emission vs color trend could not be performed due to data unavailability.\n",
      "\n",
      "\n",
      "\n"
     ]
    }
   ],
   "source": [
    "for line in new_data:\n",
    "    a, b, c = split_line_to_agent_and_message(line)\n",
    "    print (\"agent: \", a)\n",
    "    print (\"message_type: \", b)\n",
    "    print (\"message: \", c)\n",
    "\n",
    "    print (\"\\n\\n\")"
   ]
  },
  {
   "cell_type": "code",
   "execution_count": 7,
   "id": "8a374328",
   "metadata": {},
   "outputs": [
    {
     "name": "stderr",
     "output_type": "stream",
     "text": [
      "[Question] Hi! Give me the final answer directly!ㅤ\n",
      "[Final Answer] I cannot provide a direct final answer without context or a specific question because I need to understand the task or problem you want to solve. Please provide more details or a specific question so I can assist you effectively.ㅤ\n",
      "[Evaluation] The response clarifies the need for context or a specific question to provide a meaningful answer.ㅤ\n"
     ]
    }
   ],
   "source": [
    "state = AgentState()\n",
    "\n",
    "result = await run_main_agent(\"Hi! Give me the final answer directly!\", deps=state)"
   ]
  },
  {
   "cell_type": "code",
   "execution_count": 22,
   "id": "3e25fe3f",
   "metadata": {},
   "outputs": [
    {
     "data": {
      "text/plain": [
       "False"
      ]
     },
     "execution_count": 22,
     "metadata": {},
     "output_type": "execute_result"
    }
   ],
   "source": [
    "\"ㅤ\" == \" \""
   ]
  },
  {
   "cell_type": "code",
   "execution_count": 10,
   "id": "163b40e2",
   "metadata": {},
   "outputs": [
    {
     "data": {
      "text/plain": [
       "['[SampleAgent] Please run the sample_function with any argument.']"
      ]
     },
     "execution_count": 10,
     "metadata": {},
     "output_type": "execute_result"
    }
   ],
   "source": [
    "state.working_memory"
   ]
  },
  {
   "cell_type": "code",
   "execution_count": 13,
   "id": "64557d55",
   "metadata": {},
   "outputs": [],
   "source": [
    "with open(\"log.txt\", \"r\") as f:\n",
    "    lines = [line.strip() for line in f]"
   ]
  },
  {
   "cell_type": "code",
   "execution_count": 18,
   "id": "c1d57865",
   "metadata": {},
   "outputs": [],
   "source": [
    "a = [split_line_to_agent_and_message(line) for line in lines]"
   ]
  },
  {
   "cell_type": "code",
   "execution_count": 20,
   "id": "075a8c68",
   "metadata": {},
   "outputs": [],
   "source": [
    "agent, message_type, message = zip(*a)"
   ]
  },
  {
   "cell_type": "code",
   "execution_count": 21,
   "id": "7a27b71f",
   "metadata": {},
   "outputs": [
    {
     "data": {
      "text/plain": [
       "('MainAgent',\n",
       " 'SampleAgent',\n",
       " 'SampleAgent',\n",
       " 'Tool-sample_function',\n",
       " 'Tool-sample_function',\n",
       " 'SampleAgent',\n",
       " 'MainAgent',\n",
       " 'MainAgent')"
      ]
     },
     "execution_count": 21,
     "metadata": {},
     "output_type": "execute_result"
    }
   ],
   "source": [
    "agent"
   ]
  }
 ],
 "metadata": {
  "kernelspec": {
   "display_name": "safety_sdl",
   "language": "python",
   "name": "python3"
  },
  "language_info": {
   "codemirror_mode": {
    "name": "ipython",
    "version": 3
   },
   "file_extension": ".py",
   "mimetype": "text/x-python",
   "name": "python",
   "nbconvert_exporter": "python",
   "pygments_lexer": "ipython3",
   "version": "3.10.13"
  }
 },
 "nbformat": 4,
 "nbformat_minor": 5
}
